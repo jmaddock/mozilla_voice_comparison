{
 "cells": [
  {
   "cell_type": "markdown",
   "metadata": {},
   "source": [
    "# Listening Dropoff\n",
    "**Author:** Jim Maddock  \n",
    "**Last Updated:** 9-11-19  \n",
    "**Dscription:** Check to see when participants paused a voice"
   ]
  },
  {
   "cell_type": "code",
   "execution_count": 2,
   "metadata": {},
   "outputs": [
    {
     "name": "stderr",
     "output_type": "stream",
     "text": [
      "Loading required package: ggplot2\n"
     ]
    }
   ],
   "source": [
    "if(!require(ggplot2)){install.packages(\"ggplot2\")}"
   ]
  },
  {
   "cell_type": "code",
   "execution_count": 9,
   "metadata": {},
   "outputs": [],
   "source": [
    "# load data from file\n",
    "data = read.csv(\"~/research_data/mozilla_voice_comparison/ppt_data.csv\")\n",
    "wpm = read.csv(\"~/research_data/mozilla_voice_comparison/voice_metadata.csv\")\n",
    "\n",
    "data = as.data.frame(lapply(data, function (x) if (is.factor(x)) factor(x) else x))\n",
    "\n",
    "data = merge(data, wpm, by.x=\"voice\", by.y=\"Voice\")\n",
    "data$audio.paused.percent = data$audio.paused/data$Time..article.only."
   ]
  },
  {
   "cell_type": "code",
   "execution_count": 16,
   "metadata": {},
   "outputs": [
    {
     "data": {
      "text/html": [
       "<table>\n",
       "<caption>A data.frame: 21 × 3</caption>\n",
       "<thead>\n",
       "\t<tr><th></th><th scope=col>Voice</th><th scope=col>mean</th><th scope=col>sd</th></tr>\n",
       "\t<tr><th></th><th scope=col>&lt;fct&gt;</th><th scope=col>&lt;dbl&gt;</th><th scope=col>&lt;dbl&gt;</th></tr>\n",
       "</thead>\n",
       "<tbody>\n",
       "\t<tr><th scope=row>3</th><td>Human 3        </td><td>0.9921519</td><td>0.17004400</td></tr>\n",
       "\t<tr><th scope=row>1</th><td>Human 1        </td><td>0.9901573</td><td>0.14077623</td></tr>\n",
       "\t<tr><th scope=row>10</th><td>Judy W 1       </td><td>0.9839669</td><td>0.07955862</td></tr>\n",
       "\t<tr><th scope=row>11</th><td>Judy W 2       </td><td>0.9382987</td><td>0.20247576</td></tr>\n",
       "\t<tr><th scope=row>6</th><td>Google C       </td><td>0.8827914</td><td>0.28311883</td></tr>\n",
       "\t<tr><th scope=row>21</th><td>Windows 2      </td><td>0.9101835</td><td>0.26393117</td></tr>\n",
       "\t<tr><th scope=row>12</th><td>Mac Default    </td><td>0.9701937</td><td>0.12723560</td></tr>\n",
       "\t<tr><th scope=row>17</th><td>Polly Matthew  </td><td>0.8901136</td><td>0.29802556</td></tr>\n",
       "\t<tr><th scope=row>18</th><td>Polly Sally    </td><td>0.8474111</td><td>0.33642675</td></tr>\n",
       "\t<tr><th scope=row>8</th><td>Judy GL 1      </td><td>0.9710401</td><td>0.11822970</td></tr>\n",
       "\t<tr><th scope=row>20</th><td>Windows 1      </td><td>0.9422259</td><td>0.21360219</td></tr>\n",
       "\t<tr><th scope=row>19</th><td>Voicery Nichole</td><td>0.8899110</td><td>0.24289121</td></tr>\n",
       "\t<tr><th scope=row>2</th><td>Human 2        </td><td>0.9631955</td><td>0.17416290</td></tr>\n",
       "\t<tr><th scope=row>16</th><td>Polly Joanna   </td><td>0.9344293</td><td>0.23014995</td></tr>\n",
       "\t<tr><th scope=row>5</th><td>Google A       </td><td>0.8743830</td><td>0.31882530</td></tr>\n",
       "\t<tr><th scope=row>14</th><td>Nancy 2        </td><td>1.0004448</td><td>0.00418801</td></tr>\n",
       "\t<tr><th scope=row>9</th><td>Judy GL 2      </td><td>0.9590928</td><td>0.16064789</td></tr>\n",
       "\t<tr><th scope=row>13</th><td>Nancy 1        </td><td>0.9989627</td><td>0.02063709</td></tr>\n",
       "\t<tr><th scope=row>15</th><td>LJ Speech      </td><td>0.7590970</td><td>0.20794348</td></tr>\n",
       "\t<tr><th scope=row>4</th><td>Android UK     </td><td>1.0108768</td><td>0.07456115</td></tr>\n",
       "\t<tr><th scope=row>7</th><td>iOS            </td><td>0.9753719</td><td>0.20247622</td></tr>\n",
       "</tbody>\n",
       "</table>\n"
      ],
      "text/latex": [
       "A data.frame: 21 × 3\n",
       "\\begin{tabular}{r|lll}\n",
       "  & Voice & mean & sd\\\\\n",
       "  & <fct> & <dbl> & <dbl>\\\\\n",
       "\\hline\n",
       "\t3 & Human 3         & 0.9921519 & 0.17004400\\\\\n",
       "\t1 & Human 1         & 0.9901573 & 0.14077623\\\\\n",
       "\t10 & Judy W 1        & 0.9839669 & 0.07955862\\\\\n",
       "\t11 & Judy W 2        & 0.9382987 & 0.20247576\\\\\n",
       "\t6 & Google C        & 0.8827914 & 0.28311883\\\\\n",
       "\t21 & Windows 2       & 0.9101835 & 0.26393117\\\\\n",
       "\t12 & Mac Default     & 0.9701937 & 0.12723560\\\\\n",
       "\t17 & Polly Matthew   & 0.8901136 & 0.29802556\\\\\n",
       "\t18 & Polly Sally     & 0.8474111 & 0.33642675\\\\\n",
       "\t8 & Judy GL 1       & 0.9710401 & 0.11822970\\\\\n",
       "\t20 & Windows 1       & 0.9422259 & 0.21360219\\\\\n",
       "\t19 & Voicery Nichole & 0.8899110 & 0.24289121\\\\\n",
       "\t2 & Human 2         & 0.9631955 & 0.17416290\\\\\n",
       "\t16 & Polly Joanna    & 0.9344293 & 0.23014995\\\\\n",
       "\t5 & Google A        & 0.8743830 & 0.31882530\\\\\n",
       "\t14 & Nancy 2         & 1.0004448 & 0.00418801\\\\\n",
       "\t9 & Judy GL 2       & 0.9590928 & 0.16064789\\\\\n",
       "\t13 & Nancy 1         & 0.9989627 & 0.02063709\\\\\n",
       "\t15 & LJ Speech       & 0.7590970 & 0.20794348\\\\\n",
       "\t4 & Android UK      & 1.0108768 & 0.07456115\\\\\n",
       "\t7 & iOS             & 0.9753719 & 0.20247622\\\\\n",
       "\\end{tabular}\n"
      ],
      "text/markdown": [
       "\n",
       "A data.frame: 21 × 3\n",
       "\n",
       "| <!--/--> | Voice &lt;fct&gt; | mean &lt;dbl&gt; | sd &lt;dbl&gt; |\n",
       "|---|---|---|---|\n",
       "| 3 | Human 3         | 0.9921519 | 0.17004400 |\n",
       "| 1 | Human 1         | 0.9901573 | 0.14077623 |\n",
       "| 10 | Judy W 1        | 0.9839669 | 0.07955862 |\n",
       "| 11 | Judy W 2        | 0.9382987 | 0.20247576 |\n",
       "| 6 | Google C        | 0.8827914 | 0.28311883 |\n",
       "| 21 | Windows 2       | 0.9101835 | 0.26393117 |\n",
       "| 12 | Mac Default     | 0.9701937 | 0.12723560 |\n",
       "| 17 | Polly Matthew   | 0.8901136 | 0.29802556 |\n",
       "| 18 | Polly Sally     | 0.8474111 | 0.33642675 |\n",
       "| 8 | Judy GL 1       | 0.9710401 | 0.11822970 |\n",
       "| 20 | Windows 1       | 0.9422259 | 0.21360219 |\n",
       "| 19 | Voicery Nichole | 0.8899110 | 0.24289121 |\n",
       "| 2 | Human 2         | 0.9631955 | 0.17416290 |\n",
       "| 16 | Polly Joanna    | 0.9344293 | 0.23014995 |\n",
       "| 5 | Google A        | 0.8743830 | 0.31882530 |\n",
       "| 14 | Nancy 2         | 1.0004448 | 0.00418801 |\n",
       "| 9 | Judy GL 2       | 0.9590928 | 0.16064789 |\n",
       "| 13 | Nancy 1         | 0.9989627 | 0.02063709 |\n",
       "| 15 | LJ Speech       | 0.7590970 | 0.20794348 |\n",
       "| 4 | Android UK      | 1.0108768 | 0.07456115 |\n",
       "| 7 | iOS             | 0.9753719 | 0.20247622 |\n",
       "\n"
      ],
      "text/plain": [
       "   Voice           mean      sd        \n",
       "3  Human 3         0.9921519 0.17004400\n",
       "1  Human 1         0.9901573 0.14077623\n",
       "10 Judy W 1        0.9839669 0.07955862\n",
       "11 Judy W 2        0.9382987 0.20247576\n",
       "6  Google C        0.8827914 0.28311883\n",
       "21 Windows 2       0.9101835 0.26393117\n",
       "12 Mac Default     0.9701937 0.12723560\n",
       "17 Polly Matthew   0.8901136 0.29802556\n",
       "18 Polly Sally     0.8474111 0.33642675\n",
       "8  Judy GL 1       0.9710401 0.11822970\n",
       "20 Windows 1       0.9422259 0.21360219\n",
       "19 Voicery Nichole 0.8899110 0.24289121\n",
       "2  Human 2         0.9631955 0.17416290\n",
       "16 Polly Joanna    0.9344293 0.23014995\n",
       "5  Google A        0.8743830 0.31882530\n",
       "14 Nancy 2         1.0004448 0.00418801\n",
       "9  Judy GL 2       0.9590928 0.16064789\n",
       "13 Nancy 1         0.9989627 0.02063709\n",
       "15 LJ Speech       0.7590970 0.20794348\n",
       "4  Android UK      1.0108768 0.07456115\n",
       "7  iOS             0.9753719 0.20247622"
      ]
     },
     "metadata": {},
     "output_type": "display_data"
    }
   ],
   "source": [
    "data$rate.experience = ordered(data$rate.experience, levels = c(\"Excellent\", \"Good\", \"OK\", \"Poor\", \"Very poor\"))\n",
    "data$mean.opinion = as.numeric(factor(data$rate.experience, levels=rev(levels(data$rate.experience))))\n",
    "\n",
    "result = setNames(aggregate(audio.paused.percent ~ voice, FUN = 'mean', data=data), c('voice','mean'))\n",
    "result = merge(result, setNames(aggregate(audio.paused.percent ~ voice, FUN = 'sd', data=data), c('voice','sd')), by = 'voice')\n",
    "\n",
    "result = merge(result, aggregate(mean.opinion ~ voice, data=data, FUN = \"mean\"), by.x = 'voice', by.y = 'voice')\n",
    "\n",
    "result = merge(result, wpm, by.x = 'voice', by.y = 'Voice')\n",
    "\n",
    "result = result[order(-result$mean.opinion),]\n",
    "\n",
    "include = c('Voice.Table.Name','mean','sd')\n",
    "result = result[,include]\n",
    "header = c('Voice','mean','sd')\n",
    "names(result) = header\n",
    "result"
   ]
  },
  {
   "cell_type": "code",
   "execution_count": null,
   "metadata": {},
   "outputs": [],
   "source": []
  }
 ],
 "metadata": {
  "kernelspec": {
   "display_name": "R",
   "language": "R",
   "name": "ir"
  },
  "language_info": {
   "codemirror_mode": "r",
   "file_extension": ".r",
   "mimetype": "text/x-r-source",
   "name": "R",
   "pygments_lexer": "r",
   "version": "3.6.1"
  }
 },
 "nbformat": 4,
 "nbformat_minor": 2
}
