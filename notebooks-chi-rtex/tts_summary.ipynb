{
 "cells": [
  {
   "cell_type": "code",
   "execution_count": 1,
   "metadata": {},
   "outputs": [],
   "source": [
    "# load data from file\n",
    "data = read.csv(\"~/research_data/mozilla_voice_comparison/ppt_data.csv\")\n",
    "wpm = read.csv(\"~/research_data/mozilla_voice_comparison/voice_metadata.csv\")\n",
    "\n",
    "data = as.data.frame(lapply(data, function (x) if (is.factor(x)) factor(x) else x))"
   ]
  },
  {
   "cell_type": "code",
   "execution_count": 2,
   "metadata": {},
   "outputs": [
    {
     "data": {
      "text/html": [
       "<table>\n",
       "<caption>A data.frame: 21 × 6</caption>\n",
       "<thead>\n",
       "\t<tr><th scope=col>TTS Voice</th><th scope=col>WPM</th><th scope=col>TTS Gender</th><th scope=col>Date</th><th scope=col>n</th><th scope=col>M:F</th></tr>\n",
       "\t<tr><th scope=col>&lt;fct&gt;</th><th scope=col>&lt;int&gt;</th><th scope=col>&lt;fct&gt;</th><th scope=col>&lt;fct&gt;</th><th scope=col>&lt;int&gt;</th><th scope=col>&lt;dbl&gt;</th></tr>\n",
       "</thead>\n",
       "<tbody>\n",
       "\t<tr><td>Human 1        </td><td>137</td><td>F</td><td>4/19</td><td>49</td><td>1.765</td></tr>\n",
       "\t<tr><td>Human 2        </td><td>183</td><td>M</td><td>4/19</td><td>49</td><td>2.000</td></tr>\n",
       "\t<tr><td>Human 3        </td><td>182</td><td>F</td><td>4/19</td><td>55</td><td>1.077</td></tr>\n",
       "\t<tr><td>Android UK     </td><td>153</td><td>F</td><td>1/19</td><td>48</td><td>1.824</td></tr>\n",
       "\t<tr><td>Google A       </td><td>176</td><td>F</td><td>8/18</td><td>51</td><td>2.333</td></tr>\n",
       "\t<tr><td>Google C       </td><td>172</td><td>M</td><td>8/18</td><td>47</td><td>1.421</td></tr>\n",
       "\t<tr><td>iOS            </td><td>189</td><td>M</td><td>1/19</td><td>51</td><td>1.429</td></tr>\n",
       "\t<tr><td>Judy GL 1      </td><td>146</td><td>M</td><td>7/19</td><td>56</td><td>1.435</td></tr>\n",
       "\t<tr><td>Judy GL 2      </td><td>163</td><td>M</td><td>7/19</td><td>50</td><td>0.923</td></tr>\n",
       "\t<tr><td>Judy W 1       </td><td>146</td><td>M</td><td>7/19</td><td>41</td><td>0.950</td></tr>\n",
       "\t<tr><td>Judy W 2       </td><td>163</td><td>M</td><td>7/19</td><td>51</td><td>0.923</td></tr>\n",
       "\t<tr><td>Mac Default    </td><td>174</td><td>F</td><td>4/19</td><td>66</td><td>1.097</td></tr>\n",
       "\t<tr><td>Nancy 1        </td><td>174</td><td>M</td><td>1/19</td><td>43</td><td>1.688</td></tr>\n",
       "\t<tr><td>Nancy 2        </td><td>200</td><td>M</td><td>4/19</td><td>41</td><td>3.000</td></tr>\n",
       "\t<tr><td>LJ Speech      </td><td>145</td><td>M</td><td>8/18</td><td>50</td><td>1.273</td></tr>\n",
       "\t<tr><td>Polly Joanna   </td><td>187</td><td>M</td><td>8/18</td><td>50</td><td>2.125</td></tr>\n",
       "\t<tr><td>Polly Matthew  </td><td>192</td><td>F</td><td>8/18</td><td>46</td><td>1.250</td></tr>\n",
       "\t<tr><td>Polly Sally    </td><td>173</td><td>M</td><td>8/18</td><td>52</td><td>1.217</td></tr>\n",
       "\t<tr><td>Voicery Nichole</td><td>177</td><td>M</td><td>8/18</td><td>57</td><td>1.850</td></tr>\n",
       "\t<tr><td>Windows 1      </td><td>162</td><td>M</td><td>4/19</td><td>46</td><td>1.588</td></tr>\n",
       "\t<tr><td>Windows 2      </td><td>159</td><td>F</td><td>4/19</td><td>38</td><td>1.467</td></tr>\n",
       "</tbody>\n",
       "</table>\n"
      ],
      "text/latex": [
       "A data.frame: 21 × 6\n",
       "\\begin{tabular}{r|llllll}\n",
       " TTS Voice & WPM & TTS Gender & Date & n & M:F\\\\\n",
       " <fct> & <int> & <fct> & <fct> & <int> & <dbl>\\\\\n",
       "\\hline\n",
       "\t Human 1         & 137 & F & 4/19 & 49 & 1.765\\\\\n",
       "\t Human 2         & 183 & M & 4/19 & 49 & 2.000\\\\\n",
       "\t Human 3         & 182 & F & 4/19 & 55 & 1.077\\\\\n",
       "\t Android UK      & 153 & F & 1/19 & 48 & 1.824\\\\\n",
       "\t Google A        & 176 & F & 8/18 & 51 & 2.333\\\\\n",
       "\t Google C        & 172 & M & 8/18 & 47 & 1.421\\\\\n",
       "\t iOS             & 189 & M & 1/19 & 51 & 1.429\\\\\n",
       "\t Judy GL 1       & 146 & M & 7/19 & 56 & 1.435\\\\\n",
       "\t Judy GL 2       & 163 & M & 7/19 & 50 & 0.923\\\\\n",
       "\t Judy W 1        & 146 & M & 7/19 & 41 & 0.950\\\\\n",
       "\t Judy W 2        & 163 & M & 7/19 & 51 & 0.923\\\\\n",
       "\t Mac Default     & 174 & F & 4/19 & 66 & 1.097\\\\\n",
       "\t Nancy 1         & 174 & M & 1/19 & 43 & 1.688\\\\\n",
       "\t Nancy 2         & 200 & M & 4/19 & 41 & 3.000\\\\\n",
       "\t LJ Speech       & 145 & M & 8/18 & 50 & 1.273\\\\\n",
       "\t Polly Joanna    & 187 & M & 8/18 & 50 & 2.125\\\\\n",
       "\t Polly Matthew   & 192 & F & 8/18 & 46 & 1.250\\\\\n",
       "\t Polly Sally     & 173 & M & 8/18 & 52 & 1.217\\\\\n",
       "\t Voicery Nichole & 177 & M & 8/18 & 57 & 1.850\\\\\n",
       "\t Windows 1       & 162 & M & 4/19 & 46 & 1.588\\\\\n",
       "\t Windows 2       & 159 & F & 4/19 & 38 & 1.467\\\\\n",
       "\\end{tabular}\n"
      ],
      "text/markdown": [
       "\n",
       "A data.frame: 21 × 6\n",
       "\n",
       "| TTS Voice &lt;fct&gt; | WPM &lt;int&gt; | TTS Gender &lt;fct&gt; | Date &lt;fct&gt; | n &lt;int&gt; | M:F &lt;dbl&gt; |\n",
       "|---|---|---|---|---|---|\n",
       "| Human 1         | 137 | F | 4/19 | 49 | 1.765 |\n",
       "| Human 2         | 183 | M | 4/19 | 49 | 2.000 |\n",
       "| Human 3         | 182 | F | 4/19 | 55 | 1.077 |\n",
       "| Android UK      | 153 | F | 1/19 | 48 | 1.824 |\n",
       "| Google A        | 176 | F | 8/18 | 51 | 2.333 |\n",
       "| Google C        | 172 | M | 8/18 | 47 | 1.421 |\n",
       "| iOS             | 189 | M | 1/19 | 51 | 1.429 |\n",
       "| Judy GL 1       | 146 | M | 7/19 | 56 | 1.435 |\n",
       "| Judy GL 2       | 163 | M | 7/19 | 50 | 0.923 |\n",
       "| Judy W 1        | 146 | M | 7/19 | 41 | 0.950 |\n",
       "| Judy W 2        | 163 | M | 7/19 | 51 | 0.923 |\n",
       "| Mac Default     | 174 | F | 4/19 | 66 | 1.097 |\n",
       "| Nancy 1         | 174 | M | 1/19 | 43 | 1.688 |\n",
       "| Nancy 2         | 200 | M | 4/19 | 41 | 3.000 |\n",
       "| LJ Speech       | 145 | M | 8/18 | 50 | 1.273 |\n",
       "| Polly Joanna    | 187 | M | 8/18 | 50 | 2.125 |\n",
       "| Polly Matthew   | 192 | F | 8/18 | 46 | 1.250 |\n",
       "| Polly Sally     | 173 | M | 8/18 | 52 | 1.217 |\n",
       "| Voicery Nichole | 177 | M | 8/18 | 57 | 1.850 |\n",
       "| Windows 1       | 162 | M | 4/19 | 46 | 1.588 |\n",
       "| Windows 2       | 159 | F | 4/19 | 38 | 1.467 |\n",
       "\n"
      ],
      "text/plain": [
       "   TTS Voice       WPM TTS Gender Date n  M:F  \n",
       "1  Human 1         137 F          4/19 49 1.765\n",
       "2  Human 2         183 M          4/19 49 2.000\n",
       "3  Human 3         182 F          4/19 55 1.077\n",
       "4  Android UK      153 F          1/19 48 1.824\n",
       "5  Google A        176 F          8/18 51 2.333\n",
       "6  Google C        172 M          8/18 47 1.421\n",
       "7  iOS             189 M          1/19 51 1.429\n",
       "8  Judy GL 1       146 M          7/19 56 1.435\n",
       "9  Judy GL 2       163 M          7/19 50 0.923\n",
       "10 Judy W 1        146 M          7/19 41 0.950\n",
       "11 Judy W 2        163 M          7/19 51 0.923\n",
       "12 Mac Default     174 F          4/19 66 1.097\n",
       "13 Nancy 1         174 M          1/19 43 1.688\n",
       "14 Nancy 2         200 M          4/19 41 3.000\n",
       "15 LJ Speech       145 M          8/18 50 1.273\n",
       "16 Polly Joanna    187 M          8/18 50 2.125\n",
       "17 Polly Matthew   192 F          8/18 46 1.250\n",
       "18 Polly Sally     173 M          8/18 52 1.217\n",
       "19 Voicery Nichole 177 M          8/18 57 1.850\n",
       "20 Windows 1       162 M          4/19 46 1.588\n",
       "21 Windows 2       159 F          4/19 38 1.467"
      ]
     },
     "metadata": {},
     "output_type": "display_data"
    }
   ],
   "source": [
    "result = wpm\n",
    "result$TTS.Voice.Gender = factor(result$TTS.Voice.Gender, labels = c('M','F'))\n",
    "ppts = as.data.frame(table(data$voice))\n",
    "result = merge(result, ppts, by.x = 'Voice', by.y = 'Var1')\n",
    "\n",
    "gender = as.data.frame.matrix(table(data$voice, data$gender))\n",
    "gender$Ratio = round(gender$Man/gender$Woman, digits = 3)\n",
    "result = merge(result, gender, by.x = 'Voice', by.y = 0)\n",
    "\n",
    "result$WMP = lapply(result$WPM, function (x) {sprintf(x, fmt = '%#.3f')})\n",
    "\n",
    "include = c('Voice.Table.Name','WPM','TTS.Voice.Gender','Date.Data.Collected','Freq','Ratio')\n",
    "result = result[,include]\n",
    "header = c('TTS Voice','WPM','TTS Gender','Date','n','M:F')\n",
    "names(result) = header\n",
    "\n",
    "result"
   ]
  },
  {
   "cell_type": "code",
   "execution_count": 5,
   "metadata": {},
   "outputs": [
    {
     "data": {
      "text/html": [
       "444"
      ],
      "text/latex": [
       "444"
      ],
      "text/markdown": [
       "444"
      ],
      "text/plain": [
       "[1] 444"
      ]
     },
     "metadata": {},
     "output_type": "display_data"
    }
   ],
   "source": [
    "nrow(subset(data, gender == 'Woman'))"
   ]
  },
  {
   "cell_type": "code",
   "execution_count": null,
   "metadata": {},
   "outputs": [],
   "source": []
  }
 ],
 "metadata": {
  "kernelspec": {
   "display_name": "R",
   "language": "R",
   "name": "ir"
  },
  "language_info": {
   "codemirror_mode": "r",
   "file_extension": ".r",
   "mimetype": "text/x-r-source",
   "name": "R",
   "pygments_lexer": "r",
   "version": "3.6.1"
  }
 },
 "nbformat": 4,
 "nbformat_minor": 2
}
