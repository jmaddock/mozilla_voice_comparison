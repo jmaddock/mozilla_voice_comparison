{
 "cells": [
  {
   "cell_type": "code",
   "execution_count": 22,
   "metadata": {},
   "outputs": [],
   "source": [
    "require(forcats)"
   ]
  },
  {
   "cell_type": "code",
   "execution_count": 23,
   "metadata": {},
   "outputs": [],
   "source": [
    "# load data from file\n",
    "data = read.csv(\"~/research_data/mozilla_voice_comparison/ppt_data.csv\")\n",
    "\n",
    "data = as.data.frame(lapply(data, function (x) if (is.factor(x)) factor(x) else x))\n",
    "    \n",
    "data$rate.speed = ordered(data$rate.speed, levels = c(\"Much too fast\", \"Too fast\", \"Just right\",\n",
    "                                                      \"Too slow\", \"Much too slow\"))\n",
    "    \n",
    "data$rate.speed.simple = data$rate.speed\n",
    "levels(data$rate.speed.simple) = c('Too fast','Too fast','Just right','Too slow','Too slow')\n",
    "                            \n",
    "data$rate.experience = ordered(data$rate.experience, levels = c(\"Excellent\", \"Good\", \"OK\", \"Poor\", \"Very poor\"))\n",
    "data$rate.experience.simple = data$rate.experience\n",
    "levels(data$rate.experience.simple) = c('Good','Good','OK','Poor','Poor')\n",
    "                            \n",
    "data$mean.opinion = as.numeric(factor(data$rate.experience, levels=rev(levels(data$rate.experience))))"
   ]
  },
  {
   "cell_type": "code",
   "execution_count": 24,
   "metadata": {},
   "outputs": [],
   "source": [
    "experience = as.data.frame.matrix(round(prop.table(table(data$voice, data$rate.experience.simple), margin = 1), digits = 3)*100)\n",
    "experience = merge(aggregate(rate.again ~ voice, data=data, FUN = \"median\"), experience, by.y=0, by.x = 'voice')\n",
    "experience = merge(aggregate(mean.opinion ~ voice, data=data, FUN = \"mean\"), experience, by = 'voice')\n",
    "experience$mean.opinion = round((experience$mean.opinion/5), digits = 3)\n",
    "experience$rate.again = (experience$rate.again/10)"
   ]
  },
  {
   "cell_type": "code",
   "execution_count": 25,
   "metadata": {},
   "outputs": [],
   "source": [
    "include = c('voice', 'mean.opinion','rate.again','Good','Poor')\n",
    "experience = experience[,include]\n",
    "header = c('Voice','MPS','Repeat','% pos','% neg')\n",
    "names(experience) = header"
   ]
  },
  {
   "cell_type": "code",
   "execution_count": 26,
   "metadata": {},
   "outputs": [
    {
     "data": {
      "text/html": [
       "<table>\n",
       "<caption>A data.frame: 21 × 6</caption>\n",
       "<thead>\n",
       "\t<tr><th></th><th scope=col>Voice</th><th scope=col>MPS</th><th scope=col>Repeat</th><th scope=col>% pos</th><th scope=col>% neg</th><th scope=col>rank_diff</th></tr>\n",
       "\t<tr><th></th><th scope=col>&lt;fct&gt;</th><th scope=col>&lt;dbl&gt;</th><th scope=col>&lt;dbl&gt;</th><th scope=col>&lt;dbl&gt;</th><th scope=col>&lt;dbl&gt;</th><th scope=col>&lt;dbl&gt;</th></tr>\n",
       "</thead>\n",
       "<tbody>\n",
       "\t<tr><th scope=row>19</th><td>Voicery Nichole    </td><td>0.691</td><td>0.6</td><td>43.9</td><td> 8.8</td><td> 6</td></tr>\n",
       "\t<tr><th scope=row>8</th><td>Judy GL1           </td><td>0.704</td><td>0.3</td><td>48.2</td><td>14.3</td><td> 4</td></tr>\n",
       "\t<tr><th scope=row>20</th><td>Windows Female     </td><td>0.700</td><td>0.5</td><td>47.8</td><td>15.2</td><td> 4</td></tr>\n",
       "\t<tr><th scope=row>11</th><td>Judy Wave2         </td><td>0.737</td><td>0.6</td><td>54.9</td><td> 7.8</td><td> 3</td></tr>\n",
       "\t<tr><th scope=row>14</th><td>Mozilla TTS:Nancy2 </td><td>0.678</td><td>0.2</td><td>34.1</td><td> 9.8</td><td> 3</td></tr>\n",
       "\t<tr><th scope=row>5</th><td>Google A           </td><td>0.682</td><td>0.4</td><td>47.1</td><td>15.7</td><td> 1</td></tr>\n",
       "\t<tr><th scope=row>1</th><td>.Abe               </td><td>0.780</td><td>0.7</td><td>75.5</td><td> 4.1</td><td> 0</td></tr>\n",
       "\t<tr><th scope=row>3</th><td>.Jofish            </td><td>0.847</td><td>0.8</td><td>89.1</td><td> 1.8</td><td> 0</td></tr>\n",
       "\t<tr><th scope=row>4</th><td>Android UK Male    </td><td>0.583</td><td>0.1</td><td>29.2</td><td>41.7</td><td> 0</td></tr>\n",
       "\t<tr><th scope=row>6</th><td>Google C           </td><td>0.736</td><td>0.7</td><td>59.6</td><td> 8.5</td><td> 0</td></tr>\n",
       "\t<tr><th scope=row>7</th><td>iOS Female         </td><td>0.557</td><td>0.0</td><td>21.6</td><td>37.3</td><td> 0</td></tr>\n",
       "\t<tr><th scope=row>10</th><td>Judy Wave1         </td><td>0.776</td><td>0.7</td><td>68.3</td><td>12.2</td><td> 0</td></tr>\n",
       "\t<tr><th scope=row>17</th><td>Polly Matthew      </td><td>0.717</td><td>0.5</td><td>54.3</td><td>10.9</td><td> 0</td></tr>\n",
       "\t<tr><th scope=row>18</th><td>Polly Sally        </td><td>0.708</td><td>0.4</td><td>53.8</td><td>15.4</td><td> 0</td></tr>\n",
       "\t<tr><th scope=row>21</th><td>Windows Male       </td><td>0.732</td><td>0.7</td><td>57.9</td><td>13.2</td><td> 0</td></tr>\n",
       "\t<tr><th scope=row>2</th><td>.Janice            </td><td>0.686</td><td>0.3</td><td>49.0</td><td>12.2</td><td>-1</td></tr>\n",
       "\t<tr><th scope=row>15</th><td>MozillaTTS:LJSpeech</td><td>0.632</td><td>0.2</td><td>44.0</td><td>32.0</td><td>-2</td></tr>\n",
       "\t<tr><th scope=row>12</th><td>Mac Default        </td><td>0.730</td><td>0.7</td><td>62.1</td><td>15.2</td><td>-3</td></tr>\n",
       "\t<tr><th scope=row>16</th><td>Polly Joana        </td><td>0.684</td><td>0.4</td><td>50.0</td><td>18.0</td><td>-3</td></tr>\n",
       "\t<tr><th scope=row>13</th><td>Mozilla TTS:Nancy  </td><td>0.665</td><td>0.3</td><td>48.8</td><td>18.6</td><td>-5</td></tr>\n",
       "\t<tr><th scope=row>9</th><td>Judy GL2           </td><td>0.668</td><td>0.3</td><td>52.0</td><td>20.0</td><td>-7</td></tr>\n",
       "</tbody>\n",
       "</table>\n"
      ],
      "text/latex": [
       "A data.frame: 21 × 6\n",
       "\\begin{tabular}{r|llllll}\n",
       "  & Voice & MPS & Repeat & \\% pos & \\% neg & rank\\_diff\\\\\n",
       "  & <fct> & <dbl> & <dbl> & <dbl> & <dbl> & <dbl>\\\\\n",
       "\\hline\n",
       "\t19 & Voicery Nichole     & 0.691 & 0.6 & 43.9 &  8.8 &  6\\\\\n",
       "\t8 & Judy GL1            & 0.704 & 0.3 & 48.2 & 14.3 &  4\\\\\n",
       "\t20 & Windows Female      & 0.700 & 0.5 & 47.8 & 15.2 &  4\\\\\n",
       "\t11 & Judy Wave2          & 0.737 & 0.6 & 54.9 &  7.8 &  3\\\\\n",
       "\t14 & Mozilla TTS:Nancy2  & 0.678 & 0.2 & 34.1 &  9.8 &  3\\\\\n",
       "\t5 & Google A            & 0.682 & 0.4 & 47.1 & 15.7 &  1\\\\\n",
       "\t1 & .Abe                & 0.780 & 0.7 & 75.5 &  4.1 &  0\\\\\n",
       "\t3 & .Jofish             & 0.847 & 0.8 & 89.1 &  1.8 &  0\\\\\n",
       "\t4 & Android UK Male     & 0.583 & 0.1 & 29.2 & 41.7 &  0\\\\\n",
       "\t6 & Google C            & 0.736 & 0.7 & 59.6 &  8.5 &  0\\\\\n",
       "\t7 & iOS Female          & 0.557 & 0.0 & 21.6 & 37.3 &  0\\\\\n",
       "\t10 & Judy Wave1          & 0.776 & 0.7 & 68.3 & 12.2 &  0\\\\\n",
       "\t17 & Polly Matthew       & 0.717 & 0.5 & 54.3 & 10.9 &  0\\\\\n",
       "\t18 & Polly Sally         & 0.708 & 0.4 & 53.8 & 15.4 &  0\\\\\n",
       "\t21 & Windows Male        & 0.732 & 0.7 & 57.9 & 13.2 &  0\\\\\n",
       "\t2 & .Janice             & 0.686 & 0.3 & 49.0 & 12.2 & -1\\\\\n",
       "\t15 & MozillaTTS:LJSpeech & 0.632 & 0.2 & 44.0 & 32.0 & -2\\\\\n",
       "\t12 & Mac Default         & 0.730 & 0.7 & 62.1 & 15.2 & -3\\\\\n",
       "\t16 & Polly Joana         & 0.684 & 0.4 & 50.0 & 18.0 & -3\\\\\n",
       "\t13 & Mozilla TTS:Nancy   & 0.665 & 0.3 & 48.8 & 18.6 & -5\\\\\n",
       "\t9 & Judy GL2            & 0.668 & 0.3 & 52.0 & 20.0 & -7\\\\\n",
       "\\end{tabular}\n"
      ],
      "text/markdown": [
       "\n",
       "A data.frame: 21 × 6\n",
       "\n",
       "| <!--/--> | Voice &lt;fct&gt; | MPS &lt;dbl&gt; | Repeat &lt;dbl&gt; | % pos &lt;dbl&gt; | % neg &lt;dbl&gt; | rank_diff &lt;dbl&gt; |\n",
       "|---|---|---|---|---|---|---|\n",
       "| 19 | Voicery Nichole     | 0.691 | 0.6 | 43.9 |  8.8 |  6 |\n",
       "| 8 | Judy GL1            | 0.704 | 0.3 | 48.2 | 14.3 |  4 |\n",
       "| 20 | Windows Female      | 0.700 | 0.5 | 47.8 | 15.2 |  4 |\n",
       "| 11 | Judy Wave2          | 0.737 | 0.6 | 54.9 |  7.8 |  3 |\n",
       "| 14 | Mozilla TTS:Nancy2  | 0.678 | 0.2 | 34.1 |  9.8 |  3 |\n",
       "| 5 | Google A            | 0.682 | 0.4 | 47.1 | 15.7 |  1 |\n",
       "| 1 | .Abe                | 0.780 | 0.7 | 75.5 |  4.1 |  0 |\n",
       "| 3 | .Jofish             | 0.847 | 0.8 | 89.1 |  1.8 |  0 |\n",
       "| 4 | Android UK Male     | 0.583 | 0.1 | 29.2 | 41.7 |  0 |\n",
       "| 6 | Google C            | 0.736 | 0.7 | 59.6 |  8.5 |  0 |\n",
       "| 7 | iOS Female          | 0.557 | 0.0 | 21.6 | 37.3 |  0 |\n",
       "| 10 | Judy Wave1          | 0.776 | 0.7 | 68.3 | 12.2 |  0 |\n",
       "| 17 | Polly Matthew       | 0.717 | 0.5 | 54.3 | 10.9 |  0 |\n",
       "| 18 | Polly Sally         | 0.708 | 0.4 | 53.8 | 15.4 |  0 |\n",
       "| 21 | Windows Male        | 0.732 | 0.7 | 57.9 | 13.2 |  0 |\n",
       "| 2 | .Janice             | 0.686 | 0.3 | 49.0 | 12.2 | -1 |\n",
       "| 15 | MozillaTTS:LJSpeech | 0.632 | 0.2 | 44.0 | 32.0 | -2 |\n",
       "| 12 | Mac Default         | 0.730 | 0.7 | 62.1 | 15.2 | -3 |\n",
       "| 16 | Polly Joana         | 0.684 | 0.4 | 50.0 | 18.0 | -3 |\n",
       "| 13 | Mozilla TTS:Nancy   | 0.665 | 0.3 | 48.8 | 18.6 | -5 |\n",
       "| 9 | Judy GL2            | 0.668 | 0.3 | 52.0 | 20.0 | -7 |\n",
       "\n"
      ],
      "text/plain": [
       "   Voice               MPS   Repeat % pos % neg rank_diff\n",
       "19 Voicery Nichole     0.691 0.6    43.9   8.8   6       \n",
       "8  Judy GL1            0.704 0.3    48.2  14.3   4       \n",
       "20 Windows Female      0.700 0.5    47.8  15.2   4       \n",
       "11 Judy Wave2          0.737 0.6    54.9   7.8   3       \n",
       "14 Mozilla TTS:Nancy2  0.678 0.2    34.1   9.8   3       \n",
       "5  Google A            0.682 0.4    47.1  15.7   1       \n",
       "1  .Abe                0.780 0.7    75.5   4.1   0       \n",
       "3  .Jofish             0.847 0.8    89.1   1.8   0       \n",
       "4  Android UK Male     0.583 0.1    29.2  41.7   0       \n",
       "6  Google C            0.736 0.7    59.6   8.5   0       \n",
       "7  iOS Female          0.557 0.0    21.6  37.3   0       \n",
       "10 Judy Wave1          0.776 0.7    68.3  12.2   0       \n",
       "17 Polly Matthew       0.717 0.5    54.3  10.9   0       \n",
       "18 Polly Sally         0.708 0.4    53.8  15.4   0       \n",
       "21 Windows Male        0.732 0.7    57.9  13.2   0       \n",
       "2  .Janice             0.686 0.3    49.0  12.2  -1       \n",
       "15 MozillaTTS:LJSpeech 0.632 0.2    44.0  32.0  -2       \n",
       "12 Mac Default         0.730 0.7    62.1  15.2  -3       \n",
       "16 Polly Joana         0.684 0.4    50.0  18.0  -3       \n",
       "13 Mozilla TTS:Nancy   0.665 0.3    48.8  18.6  -5       \n",
       "9  Judy GL2            0.668 0.3    52.0  20.0  -7       "
      ]
     },
     "metadata": {},
     "output_type": "display_data"
    }
   ],
   "source": [
    "rank = experience[order(-experience$`% pos`),]\n",
    "rank$pos_rank = rank(-rank$`% pos`)\n",
    "rank = rank[order(-experience$MPS),]\n",
    "rank$mos_rank = rank(-rank$MPS)\n",
    "rank$rank_diff = rank$pos_rank - rank$mos_rank\n",
    "result = merge(experience, rank[c('Voice','rank_diff')], by = 'Voice')\n",
    "result[order(-result$rank_diff),]"
   ]
  },
  {
   "cell_type": "code",
   "execution_count": 28,
   "metadata": {},
   "outputs": [
    {
     "data": {
      "text/html": [
       "<table>\n",
       "<caption>A data.frame: 21 × 6</caption>\n",
       "<thead>\n",
       "\t<tr><th scope=col>Voice</th><th scope=col>MPS</th><th scope=col>Repeat</th><th scope=col>% pos</th><th scope=col>% neg</th><th scope=col>rank</th></tr>\n",
       "\t<tr><th scope=col>&lt;fct&gt;</th><th scope=col>&lt;dbl&gt;</th><th scope=col>&lt;dbl&gt;</th><th scope=col>&lt;dbl&gt;</th><th scope=col>&lt;dbl&gt;</th><th scope=col>&lt;dbl&gt;</th></tr>\n",
       "</thead>\n",
       "<tbody>\n",
       "\t<tr><td>.Abe               </td><td>0.780</td><td>0.7</td><td>75.5</td><td> 4.1</td><td> 2</td></tr>\n",
       "\t<tr><td>.Janice            </td><td>0.686</td><td>0.3</td><td>49.0</td><td>12.2</td><td>13</td></tr>\n",
       "\t<tr><td>.Jofish            </td><td>0.847</td><td>0.8</td><td>89.1</td><td> 1.8</td><td> 1</td></tr>\n",
       "\t<tr><td>Android UK Male    </td><td>0.583</td><td>0.1</td><td>29.2</td><td>41.7</td><td>20</td></tr>\n",
       "\t<tr><td>Google A           </td><td>0.682</td><td>0.4</td><td>47.1</td><td>15.7</td><td>15</td></tr>\n",
       "\t<tr><td>Google C           </td><td>0.736</td><td>0.7</td><td>59.6</td><td> 8.5</td><td> 5</td></tr>\n",
       "\t<tr><td>iOS Female         </td><td>0.557</td><td>0.0</td><td>21.6</td><td>37.3</td><td>21</td></tr>\n",
       "\t<tr><td>Judy GL1           </td><td>0.704</td><td>0.3</td><td>48.2</td><td>14.3</td><td>10</td></tr>\n",
       "\t<tr><td>Judy GL2           </td><td>0.668</td><td>0.3</td><td>52.0</td><td>20.0</td><td>17</td></tr>\n",
       "\t<tr><td>Judy Wave1         </td><td>0.776</td><td>0.7</td><td>68.3</td><td>12.2</td><td> 3</td></tr>\n",
       "\t<tr><td>Judy Wave2         </td><td>0.737</td><td>0.6</td><td>54.9</td><td> 7.8</td><td> 4</td></tr>\n",
       "\t<tr><td>Mac Default        </td><td>0.730</td><td>0.7</td><td>62.1</td><td>15.2</td><td> 7</td></tr>\n",
       "\t<tr><td>Mozilla TTS:Nancy  </td><td>0.665</td><td>0.3</td><td>48.8</td><td>18.6</td><td>18</td></tr>\n",
       "\t<tr><td>Mozilla TTS:Nancy2 </td><td>0.678</td><td>0.2</td><td>34.1</td><td> 9.8</td><td>16</td></tr>\n",
       "\t<tr><td>MozillaTTS:LJSpeech</td><td>0.632</td><td>0.2</td><td>44.0</td><td>32.0</td><td>19</td></tr>\n",
       "\t<tr><td>Polly Joana        </td><td>0.684</td><td>0.4</td><td>50.0</td><td>18.0</td><td>14</td></tr>\n",
       "\t<tr><td>Polly Matthew      </td><td>0.717</td><td>0.5</td><td>54.3</td><td>10.9</td><td> 8</td></tr>\n",
       "\t<tr><td>Polly Sally        </td><td>0.708</td><td>0.4</td><td>53.8</td><td>15.4</td><td> 9</td></tr>\n",
       "\t<tr><td>Voicery Nichole    </td><td>0.691</td><td>0.6</td><td>43.9</td><td> 8.8</td><td>12</td></tr>\n",
       "\t<tr><td>Windows Female     </td><td>0.700</td><td>0.5</td><td>47.8</td><td>15.2</td><td>11</td></tr>\n",
       "\t<tr><td>Windows Male       </td><td>0.732</td><td>0.7</td><td>57.9</td><td>13.2</td><td> 6</td></tr>\n",
       "</tbody>\n",
       "</table>\n"
      ],
      "text/latex": [
       "A data.frame: 21 × 6\n",
       "\\begin{tabular}{r|llllll}\n",
       " Voice & MPS & Repeat & \\% pos & \\% neg & rank\\\\\n",
       " <fct> & <dbl> & <dbl> & <dbl> & <dbl> & <dbl>\\\\\n",
       "\\hline\n",
       "\t .Abe                & 0.780 & 0.7 & 75.5 &  4.1 &  2\\\\\n",
       "\t .Janice             & 0.686 & 0.3 & 49.0 & 12.2 & 13\\\\\n",
       "\t .Jofish             & 0.847 & 0.8 & 89.1 &  1.8 &  1\\\\\n",
       "\t Android UK Male     & 0.583 & 0.1 & 29.2 & 41.7 & 20\\\\\n",
       "\t Google A            & 0.682 & 0.4 & 47.1 & 15.7 & 15\\\\\n",
       "\t Google C            & 0.736 & 0.7 & 59.6 &  8.5 &  5\\\\\n",
       "\t iOS Female          & 0.557 & 0.0 & 21.6 & 37.3 & 21\\\\\n",
       "\t Judy GL1            & 0.704 & 0.3 & 48.2 & 14.3 & 10\\\\\n",
       "\t Judy GL2            & 0.668 & 0.3 & 52.0 & 20.0 & 17\\\\\n",
       "\t Judy Wave1          & 0.776 & 0.7 & 68.3 & 12.2 &  3\\\\\n",
       "\t Judy Wave2          & 0.737 & 0.6 & 54.9 &  7.8 &  4\\\\\n",
       "\t Mac Default         & 0.730 & 0.7 & 62.1 & 15.2 &  7\\\\\n",
       "\t Mozilla TTS:Nancy   & 0.665 & 0.3 & 48.8 & 18.6 & 18\\\\\n",
       "\t Mozilla TTS:Nancy2  & 0.678 & 0.2 & 34.1 &  9.8 & 16\\\\\n",
       "\t MozillaTTS:LJSpeech & 0.632 & 0.2 & 44.0 & 32.0 & 19\\\\\n",
       "\t Polly Joana         & 0.684 & 0.4 & 50.0 & 18.0 & 14\\\\\n",
       "\t Polly Matthew       & 0.717 & 0.5 & 54.3 & 10.9 &  8\\\\\n",
       "\t Polly Sally         & 0.708 & 0.4 & 53.8 & 15.4 &  9\\\\\n",
       "\t Voicery Nichole     & 0.691 & 0.6 & 43.9 &  8.8 & 12\\\\\n",
       "\t Windows Female      & 0.700 & 0.5 & 47.8 & 15.2 & 11\\\\\n",
       "\t Windows Male        & 0.732 & 0.7 & 57.9 & 13.2 &  6\\\\\n",
       "\\end{tabular}\n"
      ],
      "text/markdown": [
       "\n",
       "A data.frame: 21 × 6\n",
       "\n",
       "| Voice &lt;fct&gt; | MPS &lt;dbl&gt; | Repeat &lt;dbl&gt; | % pos &lt;dbl&gt; | % neg &lt;dbl&gt; | rank &lt;dbl&gt; |\n",
       "|---|---|---|---|---|---|\n",
       "| .Abe                | 0.780 | 0.7 | 75.5 |  4.1 |  2 |\n",
       "| .Janice             | 0.686 | 0.3 | 49.0 | 12.2 | 13 |\n",
       "| .Jofish             | 0.847 | 0.8 | 89.1 |  1.8 |  1 |\n",
       "| Android UK Male     | 0.583 | 0.1 | 29.2 | 41.7 | 20 |\n",
       "| Google A            | 0.682 | 0.4 | 47.1 | 15.7 | 15 |\n",
       "| Google C            | 0.736 | 0.7 | 59.6 |  8.5 |  5 |\n",
       "| iOS Female          | 0.557 | 0.0 | 21.6 | 37.3 | 21 |\n",
       "| Judy GL1            | 0.704 | 0.3 | 48.2 | 14.3 | 10 |\n",
       "| Judy GL2            | 0.668 | 0.3 | 52.0 | 20.0 | 17 |\n",
       "| Judy Wave1          | 0.776 | 0.7 | 68.3 | 12.2 |  3 |\n",
       "| Judy Wave2          | 0.737 | 0.6 | 54.9 |  7.8 |  4 |\n",
       "| Mac Default         | 0.730 | 0.7 | 62.1 | 15.2 |  7 |\n",
       "| Mozilla TTS:Nancy   | 0.665 | 0.3 | 48.8 | 18.6 | 18 |\n",
       "| Mozilla TTS:Nancy2  | 0.678 | 0.2 | 34.1 |  9.8 | 16 |\n",
       "| MozillaTTS:LJSpeech | 0.632 | 0.2 | 44.0 | 32.0 | 19 |\n",
       "| Polly Joana         | 0.684 | 0.4 | 50.0 | 18.0 | 14 |\n",
       "| Polly Matthew       | 0.717 | 0.5 | 54.3 | 10.9 |  8 |\n",
       "| Polly Sally         | 0.708 | 0.4 | 53.8 | 15.4 |  9 |\n",
       "| Voicery Nichole     | 0.691 | 0.6 | 43.9 |  8.8 | 12 |\n",
       "| Windows Female      | 0.700 | 0.5 | 47.8 | 15.2 | 11 |\n",
       "| Windows Male        | 0.732 | 0.7 | 57.9 | 13.2 |  6 |\n",
       "\n"
      ],
      "text/plain": [
       "   Voice               MPS   Repeat % pos % neg rank\n",
       "1  .Abe                0.780 0.7    75.5   4.1   2  \n",
       "2  .Janice             0.686 0.3    49.0  12.2  13  \n",
       "3  .Jofish             0.847 0.8    89.1   1.8   1  \n",
       "4  Android UK Male     0.583 0.1    29.2  41.7  20  \n",
       "5  Google A            0.682 0.4    47.1  15.7  15  \n",
       "6  Google C            0.736 0.7    59.6   8.5   5  \n",
       "7  iOS Female          0.557 0.0    21.6  37.3  21  \n",
       "8  Judy GL1            0.704 0.3    48.2  14.3  10  \n",
       "9  Judy GL2            0.668 0.3    52.0  20.0  17  \n",
       "10 Judy Wave1          0.776 0.7    68.3  12.2   3  \n",
       "11 Judy Wave2          0.737 0.6    54.9   7.8   4  \n",
       "12 Mac Default         0.730 0.7    62.1  15.2   7  \n",
       "13 Mozilla TTS:Nancy   0.665 0.3    48.8  18.6  18  \n",
       "14 Mozilla TTS:Nancy2  0.678 0.2    34.1   9.8  16  \n",
       "15 MozillaTTS:LJSpeech 0.632 0.2    44.0  32.0  19  \n",
       "16 Polly Joana         0.684 0.4    50.0  18.0  14  \n",
       "17 Polly Matthew       0.717 0.5    54.3  10.9   8  \n",
       "18 Polly Sally         0.708 0.4    53.8  15.4   9  \n",
       "19 Voicery Nichole     0.691 0.6    43.9   8.8  12  \n",
       "20 Windows Female      0.700 0.5    47.8  15.2  11  \n",
       "21 Windows Male        0.732 0.7    57.9  13.2   6  "
      ]
     },
     "metadata": {},
     "output_type": "display_data"
    }
   ],
   "source": [
    "rank = experience\n",
    "rank = rank[order(-rank$MPS),]\n",
    "rank$rank = rank(-rank$MPS)\n",
    "rank[order(rank$Voice),]"
   ]
  },
  {
   "cell_type": "code",
   "execution_count": 8,
   "metadata": {},
   "outputs": [
    {
     "data": {
      "text/plain": [
       "              Df Sum Sq Mean Sq F value Pr(>F)    \n",
       "data$voice    21  113.7   5.414   6.163 <2e-16 ***\n",
       "Residuals   1068  938.2   0.878                   \n",
       "---\n",
       "Signif. codes:  0 ‘***’ 0.001 ‘**’ 0.01 ‘*’ 0.05 ‘.’ 0.1 ‘ ’ 1"
      ]
     },
     "metadata": {},
     "output_type": "display_data"
    }
   ],
   "source": [
    "summary(aov(data$mean.opinion ~ data$voice))"
   ]
  },
  {
   "cell_type": "code",
   "execution_count": 10,
   "metadata": {},
   "outputs": [
    {
     "data": {
      "text/plain": [
       "\n",
       "\tKruskal-Wallis rank sum test\n",
       "\n",
       "data:  rate.experience by voice\n",
       "Kruskal-Wallis chi-squared = 113.06, df = 21, p-value = 1.316e-14\n"
      ]
     },
     "metadata": {},
     "output_type": "display_data"
    }
   ],
   "source": [
    "kruskal.test(rate.experience ~ voice, data = data)"
   ]
  },
  {
   "cell_type": "code",
   "execution_count": 11,
   "metadata": {},
   "outputs": [
    {
     "data": {
      "text/plain": [
       "\n",
       "\tWilcoxon signed rank test\n",
       "\n",
       "data:  experience$`% pos` and experience$MPS\n",
       "V = 231, p-value = 9.537e-07\n",
       "alternative hypothesis: true location shift is not equal to 0\n"
      ]
     },
     "metadata": {},
     "output_type": "display_data"
    }
   ],
   "source": [
    "wilcox.test(experience$`% pos`, experience$MPS, paired = TRUE)"
   ]
  },
  {
   "cell_type": "code",
   "execution_count": 12,
   "metadata": {},
   "outputs": [
    {
     "data": {
      "text/plain": [
       "\n",
       "\tWilcoxon signed rank test\n",
       "\n",
       "data:  experience$`% neg` and experience$MPS\n",
       "V = 231, p-value = 9.537e-07\n",
       "alternative hypothesis: true location shift is not equal to 0\n"
      ]
     },
     "metadata": {},
     "output_type": "display_data"
    }
   ],
   "source": [
    "wilcox.test(experience$`% neg`, experience$MPS, paired = TRUE)"
   ]
  },
  {
   "cell_type": "code",
   "execution_count": null,
   "metadata": {},
   "outputs": [],
   "source": []
  }
 ],
 "metadata": {
  "kernelspec": {
   "display_name": "R",
   "language": "R",
   "name": "ir"
  },
  "language_info": {
   "codemirror_mode": "r",
   "file_extension": ".r",
   "mimetype": "text/x-r-source",
   "name": "R",
   "pygments_lexer": "r",
   "version": "3.6.1"
  }
 },
 "nbformat": 4,
 "nbformat_minor": 2
}
