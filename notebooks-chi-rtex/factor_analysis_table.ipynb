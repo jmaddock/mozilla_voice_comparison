{
 "cells": [
  {
   "cell_type": "code",
   "execution_count": 1,
   "metadata": {},
   "outputs": [],
   "source": [
    "library(ggplot2)\n",
    "library(ggrepel)"
   ]
  },
  {
   "cell_type": "code",
   "execution_count": 2,
   "metadata": {},
   "outputs": [],
   "source": [
    "toBinary = function (column) {\n",
    "    column = factor(column, labels = c(1))\n",
    "    column = as.numeric(column)\n",
    "    column[is.na(column)] = 0\n",
    "    return(column)\n",
    "}"
   ]
  },
  {
   "cell_type": "code",
   "execution_count": 3,
   "metadata": {},
   "outputs": [],
   "source": [
    "# load data from file\n",
    "# load data from file\n",
    "data = read.csv(\"~/research_data/mozilla_voice_comparison/ppt_data.csv\")\n",
    "wpm = read.csv(\"~/research_data/mozilla_voice_comparison/voice_metadata.csv\")\n",
    "\n",
    "data = as.data.frame(lapply(data, function (x) if (is.factor(x)) factor(x) else x))"
   ]
  },
  {
   "cell_type": "code",
   "execution_count": 4,
   "metadata": {},
   "outputs": [],
   "source": [
    "data$rate.experience = ordered(data$rate.experience, levels = c(\"Excellent\", \"Good\", \"OK\", \"Poor\", \"Very poor\"))\n",
    "data$voice.easy = toBinary(data$voice.easy)\n",
    "data$voice.monotone = abs(toBinary(data$voice.monotone) - 1)\n",
    "data$voice.natural = toBinary(data$voice.natural)\n",
    "data$voice.no_emotion = abs(toBinary(data$voice.no_emotion) -1)\n",
    "data$voice.focus = toBinary(data$voice.focus)"
   ]
  },
  {
   "cell_type": "code",
   "execution_count": 5,
   "metadata": {},
   "outputs": [],
   "source": [
    "data$voice.factor.understand = rowMeans(data[c('voice.easy','voice.focus')])\n",
    "data$voice.factor.quality = rowMeans(data[c('voice.natural','voice.monotone','voice.no_emotion')])\n",
    "result = merge(aggregate(voice.factor.understand ~ voice, data=data, FUN = \"mean\"),aggregate(voice.factor.quality ~ voice, data=data, FUN = \"mean\"),by='voice')\n",
    "result$voice.factor.quality = round(result$voice.factor.quality, digits = 3)\n",
    "result$voice.factor.understand = round(result$voice.factor.understand, digits = 3)"
   ]
  },
  {
   "cell_type": "code",
   "execution_count": 10,
   "metadata": {},
   "outputs": [
    {
     "data": {
      "text/html": [
       "<table>\n",
       "<caption>A data.frame: 22 × 3</caption>\n",
       "<thead>\n",
       "\t<tr><th scope=col>voice</th><th scope=col>voice.factor.understand</th><th scope=col>voice.factor.quality</th></tr>\n",
       "\t<tr><th scope=col>&lt;fct&gt;</th><th scope=col>&lt;chr&gt;</th><th scope=col>&lt;dbl&gt;</th></tr>\n",
       "</thead>\n",
       "<tbody>\n",
       "\t<tr><td>.Abe               </td><td>0.673</td><td>0.626</td></tr>\n",
       "\t<tr><td>.Janice            </td><td>0.582</td><td>0.762</td></tr>\n",
       "\t<tr><td>.Jofish            </td><td>0.782</td><td>0.836</td></tr>\n",
       "\t<tr><td>Android UK Male    </td><td>0.25 </td><td>0.215</td></tr>\n",
       "\t<tr><td>Google A           </td><td>0.471</td><td>0.379</td></tr>\n",
       "\t<tr><td>Google C           </td><td>0.553</td><td>0.397</td></tr>\n",
       "\t<tr><td>iOS Female         </td><td>0.265</td><td>0.105</td></tr>\n",
       "\t<tr><td>Judy GL1           </td><td>0.473</td><td>0.304</td></tr>\n",
       "\t<tr><td>Judy GL2           </td><td>0.48 </td><td>0.253</td></tr>\n",
       "\t<tr><td>Judy Wave1         </td><td>0.585</td><td>0.480</td></tr>\n",
       "\t<tr><td>Judy Wave2         </td><td>0.51 </td><td>0.438</td></tr>\n",
       "\t<tr><td>Mac Default        </td><td>0.394</td><td>0.424</td></tr>\n",
       "\t<tr><td>Mozilla TTS:Nancy  </td><td>0.547</td><td>0.233</td></tr>\n",
       "\t<tr><td>Mozilla TTS:Nancy2 </td><td>0.512</td><td>0.293</td></tr>\n",
       "\t<tr><td>MozillaTTS:LJSpeech</td><td>0.2  </td><td>0.300</td></tr>\n",
       "\t<tr><td>Polly Joana        </td><td>0.51 </td><td>0.307</td></tr>\n",
       "\t<tr><td>Polly Matthew      </td><td>0.435</td><td>0.290</td></tr>\n",
       "\t<tr><td>Polly Sally        </td><td>0.519</td><td>0.295</td></tr>\n",
       "\t<tr><td>Text only          </td><td>0    </td><td>0.667</td></tr>\n",
       "\t<tr><td>Voicery Nichole    </td><td>0.456</td><td>0.392</td></tr>\n",
       "\t<tr><td>Windows Female     </td><td>0.489</td><td>0.420</td></tr>\n",
       "\t<tr><td>Windows Male       </td><td>0.395</td><td>0.439</td></tr>\n",
       "</tbody>\n",
       "</table>\n"
      ],
      "text/latex": [
       "A data.frame: 22 × 3\n",
       "\\begin{tabular}{r|lll}\n",
       " voice & voice.factor.understand & voice.factor.quality\\\\\n",
       " <fct> & <chr> & <dbl>\\\\\n",
       "\\hline\n",
       "\t .Abe                & 0.673 & 0.626\\\\\n",
       "\t .Janice             & 0.582 & 0.762\\\\\n",
       "\t .Jofish             & 0.782 & 0.836\\\\\n",
       "\t Android UK Male     & 0.25  & 0.215\\\\\n",
       "\t Google A            & 0.471 & 0.379\\\\\n",
       "\t Google C            & 0.553 & 0.397\\\\\n",
       "\t iOS Female          & 0.265 & 0.105\\\\\n",
       "\t Judy GL1            & 0.473 & 0.304\\\\\n",
       "\t Judy GL2            & 0.48  & 0.253\\\\\n",
       "\t Judy Wave1          & 0.585 & 0.480\\\\\n",
       "\t Judy Wave2          & 0.51  & 0.438\\\\\n",
       "\t Mac Default         & 0.394 & 0.424\\\\\n",
       "\t Mozilla TTS:Nancy   & 0.547 & 0.233\\\\\n",
       "\t Mozilla TTS:Nancy2  & 0.512 & 0.293\\\\\n",
       "\t MozillaTTS:LJSpeech & 0.2   & 0.300\\\\\n",
       "\t Polly Joana         & 0.51  & 0.307\\\\\n",
       "\t Polly Matthew       & 0.435 & 0.290\\\\\n",
       "\t Polly Sally         & 0.519 & 0.295\\\\\n",
       "\t Text only           & 0     & 0.667\\\\\n",
       "\t Voicery Nichole     & 0.456 & 0.392\\\\\n",
       "\t Windows Female      & 0.489 & 0.420\\\\\n",
       "\t Windows Male        & 0.395 & 0.439\\\\\n",
       "\\end{tabular}\n"
      ],
      "text/markdown": [
       "\n",
       "A data.frame: 22 × 3\n",
       "\n",
       "| voice &lt;fct&gt; | voice.factor.understand &lt;chr&gt; | voice.factor.quality &lt;dbl&gt; |\n",
       "|---|---|---|\n",
       "| .Abe                | 0.673 | 0.626 |\n",
       "| .Janice             | 0.582 | 0.762 |\n",
       "| .Jofish             | 0.782 | 0.836 |\n",
       "| Android UK Male     | 0.25  | 0.215 |\n",
       "| Google A            | 0.471 | 0.379 |\n",
       "| Google C            | 0.553 | 0.397 |\n",
       "| iOS Female          | 0.265 | 0.105 |\n",
       "| Judy GL1            | 0.473 | 0.304 |\n",
       "| Judy GL2            | 0.48  | 0.253 |\n",
       "| Judy Wave1          | 0.585 | 0.480 |\n",
       "| Judy Wave2          | 0.51  | 0.438 |\n",
       "| Mac Default         | 0.394 | 0.424 |\n",
       "| Mozilla TTS:Nancy   | 0.547 | 0.233 |\n",
       "| Mozilla TTS:Nancy2  | 0.512 | 0.293 |\n",
       "| MozillaTTS:LJSpeech | 0.2   | 0.300 |\n",
       "| Polly Joana         | 0.51  | 0.307 |\n",
       "| Polly Matthew       | 0.435 | 0.290 |\n",
       "| Polly Sally         | 0.519 | 0.295 |\n",
       "| Text only           | 0     | 0.667 |\n",
       "| Voicery Nichole     | 0.456 | 0.392 |\n",
       "| Windows Female      | 0.489 | 0.420 |\n",
       "| Windows Male        | 0.395 | 0.439 |\n",
       "\n"
      ],
      "text/plain": [
       "   voice               voice.factor.understand voice.factor.quality\n",
       "1  .Abe                0.673                   0.626               \n",
       "2  .Janice             0.582                   0.762               \n",
       "3  .Jofish             0.782                   0.836               \n",
       "4  Android UK Male     0.25                    0.215               \n",
       "5  Google A            0.471                   0.379               \n",
       "6  Google C            0.553                   0.397               \n",
       "7  iOS Female          0.265                   0.105               \n",
       "8  Judy GL1            0.473                   0.304               \n",
       "9  Judy GL2            0.48                    0.253               \n",
       "10 Judy Wave1          0.585                   0.480               \n",
       "11 Judy Wave2          0.51                    0.438               \n",
       "12 Mac Default         0.394                   0.424               \n",
       "13 Mozilla TTS:Nancy   0.547                   0.233               \n",
       "14 Mozilla TTS:Nancy2  0.512                   0.293               \n",
       "15 MozillaTTS:LJSpeech 0.2                     0.300               \n",
       "16 Polly Joana         0.51                    0.307               \n",
       "17 Polly Matthew       0.435                   0.290               \n",
       "18 Polly Sally         0.519                   0.295               \n",
       "19 Text only           0                       0.667               \n",
       "20 Voicery Nichole     0.456                   0.392               \n",
       "21 Windows Female      0.489                   0.420               \n",
       "22 Windows Male        0.395                   0.439               "
      ]
     },
     "metadata": {},
     "output_type": "display_data"
    }
   ],
   "source": [
    "result$voice.factor.understand[result$voice == \"Text only\"] = \n",
    "result"
   ]
  },
  {
   "cell_type": "code",
   "execution_count": 6,
   "metadata": {},
   "outputs": [],
   "source": [
    "header = c('Voice','Clarity','Quality')\n",
    "names(result) = header"
   ]
  },
  {
   "cell_type": "code",
   "execution_count": 7,
   "metadata": {},
   "outputs": [
    {
     "data": {
      "text/html": [
       "<table>\n",
       "<caption>A data.frame: 22 × 3</caption>\n",
       "<thead>\n",
       "\t<tr><th scope=col>Voice</th><th scope=col>Clarity</th><th scope=col>Quality</th></tr>\n",
       "\t<tr><th scope=col>&lt;fct&gt;</th><th scope=col>&lt;dbl&gt;</th><th scope=col>&lt;dbl&gt;</th></tr>\n",
       "</thead>\n",
       "<tbody>\n",
       "\t<tr><td>.Abe               </td><td>0.673</td><td>0.626</td></tr>\n",
       "\t<tr><td>.Janice            </td><td>0.582</td><td>0.762</td></tr>\n",
       "\t<tr><td>.Jofish            </td><td>0.782</td><td>0.836</td></tr>\n",
       "\t<tr><td>Android UK Male    </td><td>0.250</td><td>0.215</td></tr>\n",
       "\t<tr><td>Google A           </td><td>0.471</td><td>0.379</td></tr>\n",
       "\t<tr><td>Google C           </td><td>0.553</td><td>0.397</td></tr>\n",
       "\t<tr><td>iOS Female         </td><td>0.265</td><td>0.105</td></tr>\n",
       "\t<tr><td>Judy GL1           </td><td>0.473</td><td>0.304</td></tr>\n",
       "\t<tr><td>Judy GL2           </td><td>0.480</td><td>0.253</td></tr>\n",
       "\t<tr><td>Judy Wave1         </td><td>0.585</td><td>0.480</td></tr>\n",
       "\t<tr><td>Judy Wave2         </td><td>0.510</td><td>0.438</td></tr>\n",
       "\t<tr><td>Mac Default        </td><td>0.394</td><td>0.424</td></tr>\n",
       "\t<tr><td>Mozilla TTS:Nancy  </td><td>0.547</td><td>0.233</td></tr>\n",
       "\t<tr><td>Mozilla TTS:Nancy2 </td><td>0.512</td><td>0.293</td></tr>\n",
       "\t<tr><td>MozillaTTS:LJSpeech</td><td>0.200</td><td>0.300</td></tr>\n",
       "\t<tr><td>Polly Joana        </td><td>0.510</td><td>0.307</td></tr>\n",
       "\t<tr><td>Polly Matthew      </td><td>0.435</td><td>0.290</td></tr>\n",
       "\t<tr><td>Polly Sally        </td><td>0.519</td><td>0.295</td></tr>\n",
       "\t<tr><td>Text only          </td><td>0.000</td><td>0.667</td></tr>\n",
       "\t<tr><td>Voicery Nichole    </td><td>0.456</td><td>0.392</td></tr>\n",
       "\t<tr><td>Windows Female     </td><td>0.489</td><td>0.420</td></tr>\n",
       "\t<tr><td>Windows Male       </td><td>0.395</td><td>0.439</td></tr>\n",
       "</tbody>\n",
       "</table>\n"
      ],
      "text/latex": [
       "A data.frame: 22 × 3\n",
       "\\begin{tabular}{r|lll}\n",
       " Voice & Clarity & Quality\\\\\n",
       " <fct> & <dbl> & <dbl>\\\\\n",
       "\\hline\n",
       "\t .Abe                & 0.673 & 0.626\\\\\n",
       "\t .Janice             & 0.582 & 0.762\\\\\n",
       "\t .Jofish             & 0.782 & 0.836\\\\\n",
       "\t Android UK Male     & 0.250 & 0.215\\\\\n",
       "\t Google A            & 0.471 & 0.379\\\\\n",
       "\t Google C            & 0.553 & 0.397\\\\\n",
       "\t iOS Female          & 0.265 & 0.105\\\\\n",
       "\t Judy GL1            & 0.473 & 0.304\\\\\n",
       "\t Judy GL2            & 0.480 & 0.253\\\\\n",
       "\t Judy Wave1          & 0.585 & 0.480\\\\\n",
       "\t Judy Wave2          & 0.510 & 0.438\\\\\n",
       "\t Mac Default         & 0.394 & 0.424\\\\\n",
       "\t Mozilla TTS:Nancy   & 0.547 & 0.233\\\\\n",
       "\t Mozilla TTS:Nancy2  & 0.512 & 0.293\\\\\n",
       "\t MozillaTTS:LJSpeech & 0.200 & 0.300\\\\\n",
       "\t Polly Joana         & 0.510 & 0.307\\\\\n",
       "\t Polly Matthew       & 0.435 & 0.290\\\\\n",
       "\t Polly Sally         & 0.519 & 0.295\\\\\n",
       "\t Text only           & 0.000 & 0.667\\\\\n",
       "\t Voicery Nichole     & 0.456 & 0.392\\\\\n",
       "\t Windows Female      & 0.489 & 0.420\\\\\n",
       "\t Windows Male        & 0.395 & 0.439\\\\\n",
       "\\end{tabular}\n"
      ],
      "text/markdown": [
       "\n",
       "A data.frame: 22 × 3\n",
       "\n",
       "| Voice &lt;fct&gt; | Clarity &lt;dbl&gt; | Quality &lt;dbl&gt; |\n",
       "|---|---|---|\n",
       "| .Abe                | 0.673 | 0.626 |\n",
       "| .Janice             | 0.582 | 0.762 |\n",
       "| .Jofish             | 0.782 | 0.836 |\n",
       "| Android UK Male     | 0.250 | 0.215 |\n",
       "| Google A            | 0.471 | 0.379 |\n",
       "| Google C            | 0.553 | 0.397 |\n",
       "| iOS Female          | 0.265 | 0.105 |\n",
       "| Judy GL1            | 0.473 | 0.304 |\n",
       "| Judy GL2            | 0.480 | 0.253 |\n",
       "| Judy Wave1          | 0.585 | 0.480 |\n",
       "| Judy Wave2          | 0.510 | 0.438 |\n",
       "| Mac Default         | 0.394 | 0.424 |\n",
       "| Mozilla TTS:Nancy   | 0.547 | 0.233 |\n",
       "| Mozilla TTS:Nancy2  | 0.512 | 0.293 |\n",
       "| MozillaTTS:LJSpeech | 0.200 | 0.300 |\n",
       "| Polly Joana         | 0.510 | 0.307 |\n",
       "| Polly Matthew       | 0.435 | 0.290 |\n",
       "| Polly Sally         | 0.519 | 0.295 |\n",
       "| Text only           | 0.000 | 0.667 |\n",
       "| Voicery Nichole     | 0.456 | 0.392 |\n",
       "| Windows Female      | 0.489 | 0.420 |\n",
       "| Windows Male        | 0.395 | 0.439 |\n",
       "\n"
      ],
      "text/plain": [
       "   Voice               Clarity Quality\n",
       "1  .Abe                0.673   0.626  \n",
       "2  .Janice             0.582   0.762  \n",
       "3  .Jofish             0.782   0.836  \n",
       "4  Android UK Male     0.250   0.215  \n",
       "5  Google A            0.471   0.379  \n",
       "6  Google C            0.553   0.397  \n",
       "7  iOS Female          0.265   0.105  \n",
       "8  Judy GL1            0.473   0.304  \n",
       "9  Judy GL2            0.480   0.253  \n",
       "10 Judy Wave1          0.585   0.480  \n",
       "11 Judy Wave2          0.510   0.438  \n",
       "12 Mac Default         0.394   0.424  \n",
       "13 Mozilla TTS:Nancy   0.547   0.233  \n",
       "14 Mozilla TTS:Nancy2  0.512   0.293  \n",
       "15 MozillaTTS:LJSpeech 0.200   0.300  \n",
       "16 Polly Joana         0.510   0.307  \n",
       "17 Polly Matthew       0.435   0.290  \n",
       "18 Polly Sally         0.519   0.295  \n",
       "19 Text only           0.000   0.667  \n",
       "20 Voicery Nichole     0.456   0.392  \n",
       "21 Windows Female      0.489   0.420  \n",
       "22 Windows Male        0.395   0.439  "
      ]
     },
     "metadata": {},
     "output_type": "display_data"
    }
   ],
   "source": [
    "result"
   ]
  },
  {
   "cell_type": "code",
   "execution_count": 9,
   "metadata": {},
   "outputs": [
    {
     "data": {
      "text/plain": [
       "\n",
       "\tWilcoxon signed rank test\n",
       "\n",
       "data:  result$voice.factor.understand and result$voice.factor.quality\n",
       "V = 196, p-value = 0.02292\n",
       "alternative hypothesis: true location shift is not equal to 0\n"
      ]
     },
     "metadata": {},
     "output_type": "display_data"
    }
   ],
   "source": [
    "wilcox.test(result$voice.factor.understand, result$voice.factor.quality, paired = TRUE)"
   ]
  },
  {
   "cell_type": "code",
   "execution_count": null,
   "metadata": {},
   "outputs": [],
   "source": [
    "result$voice.factor.understand[result$voice == \"Text only] = ''"
   ]
  },
  {
   "cell_type": "code",
   "execution_count": null,
   "metadata": {},
   "outputs": [],
   "source": []
  }
 ],
 "metadata": {
  "kernelspec": {
   "display_name": "R",
   "language": "R",
   "name": "ir"
  },
  "language_info": {
   "codemirror_mode": "r",
   "file_extension": ".r",
   "mimetype": "text/x-r-source",
   "name": "R",
   "pygments_lexer": "r",
   "version": "3.6.1"
  }
 },
 "nbformat": 4,
 "nbformat_minor": 2
}
