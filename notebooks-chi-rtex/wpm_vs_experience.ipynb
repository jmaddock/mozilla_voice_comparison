{
 "cells": [
  {
   "cell_type": "code",
   "execution_count": 2,
   "metadata": {},
   "outputs": [],
   "source": [
    "library(ggplot2)"
   ]
  },
  {
   "cell_type": "code",
   "execution_count": 3,
   "metadata": {},
   "outputs": [],
   "source": [
    "# load data from file\n",
    "data = read.csv(\"~/research_data/mozilla_voice_comparison/ppt_data.csv\")\n",
    "wpm = read.csv(\"~/research_data/mozilla_voice_comparison/voice_metadata.csv\")\n",
    "\n",
    "data = as.data.frame(lapply(data, function (x) if (is.factor(x)) factor(x) else x))\n",
    "    "
   ]
  },
  {
   "cell_type": "code",
   "execution_count": 4,
   "metadata": {},
   "outputs": [],
   "source": [
    "data$rate.speed = ordered(data$rate.speed, levels = c(\"Much too fast\", \"Too fast\", \"Just right\",\n",
    "                                                      \"Too slow\", \"Much too slow\"))\n",
    "data$rate.experience.simple = data$rate.experience\n",
    "levels(data$rate.experience.simple) = c('Good','Good','OK','Poor','Poor')"
   ]
  },
  {
   "cell_type": "code",
   "execution_count": 5,
   "metadata": {},
   "outputs": [],
   "source": [
    "group_names.voice = c(\n",
    "  \"MozillaTTS:LJSpeech\" = paste(\"MozillaTTS:LJSpeech (\", nrow(data[data$voice == \"MozillaTTS:LJSpeech\",]) ,\")\", sep = \"\"),\n",
    "  \"Google A\" = paste(\"Google A (\", nrow(data[data$voice == \"Google A\",]) ,\")\", sep = \"\"),\n",
    "  \"Google C\" = paste(\"Google C (\", nrow(data[data$voice == \"Google C\",]) ,\")\", sep = \"\"),\n",
    "  \"Polly Joana\" = paste(\"Polly Joana (\", nrow(data[data$voice == \"Polly Joana\",]) ,\")\", sep = \"\"),\n",
    "  \"Polly Matthew\" = paste(\"Polly Matthew (\", nrow(data[data$voice == \"Polly Matthew\",]) ,\")\", sep = \"\"),\n",
    "  \"Polly Sally\" = paste(\"Polly Sally (\", nrow(data[data$voice == \"Polly Sally\",]) ,\")\", sep = \"\"),\n",
    "  \"Voicery Nichole\" = paste(\"Voicery Nichole (\", nrow(data[data$voice == \"Voicery Nichole\",]) ,\")\", sep = \"\"),\n",
    "  \"Android UK Male\" = paste(\"Android UK Male (\", nrow(data[data$voice == \"Android UK Male\",]) ,\")\", sep = \"\"),\n",
    "  \"iOS Female\" = paste(\"iOS Female (\", nrow(data[data$voice == \"iOS Female\",]) ,\")\", sep = \"\"),\n",
    "  \"Mozilla TTS:Nancy\" = paste(\"Mozilla TTS:Nancy (\", nrow(data[data$voice == \"Mozilla TTS:Nancy\",]) ,\")\", sep = \"\"),\n",
    "  \"Mozilla TTS:Nancy2\" = paste(\"Mozilla TTS:Nancy2 (\", nrow(data[data$voice == \"Mozilla TTS:Nancy2\",]) ,\")\", sep = \"\"),\n",
    "  \"Judy Wave2\" = paste(\"Judy Wave2 (\", nrow(data[data$voice == \"Judy Wave2\",]) ,\")\", sep = \"\"),\n",
    "  \"Judy Wave1\" = paste(\"Judy Wave1 (\", nrow(data[data$voice == \"Judy Wave1\",]) ,\")\", sep = \"\"),\n",
    "  \"Judy GL2\" = paste(\"Judy GL2 (\", nrow(data[data$voice == \"Judy GL2\",]) ,\")\", sep = \"\"),\n",
    "  \"Judy GL1\" = paste(\"Judy GL1 (\", nrow(data[data$voice == \"Judy GL1\",]) ,\")\", sep = \"\"),\n",
    "  \".Jofish\" = paste(\".Jofish (\", nrow(data[data$voice == \".Jofish\",]) ,\")\", sep = \"\"),\n",
    "  \".Janice\" = paste(\".Janice (\", nrow(data[data$voice == \".Janice\",]) ,\")\", sep = \"\"),\n",
    "  \".Abe\" = paste(\".Abe (\", nrow(data[data$voice == \".Abe\",]) ,\")\", sep = \"\"),\n",
    "  \"Common Voice\" = paste(\"Common Voice (\", nrow(data[data$voice == \"Common Voice\",]) ,\")\", sep = \"\"),\n",
    "  \"Mac Default\" = paste(\"Mac Default (\", nrow(data[data$voice == \"Mac Default\",]) ,\")\", sep = \"\"),\n",
    "  \"Text only\" = paste(\"Text only (\", nrow(data[data$voice == \"Text only\",]) ,\")\", sep = \"\"),\n",
    "  \"Windows Female\" = paste(\"Windows Female (\", nrow(data[data$voice == \"Windows Female\",]) ,\")\", sep = \"\"),\n",
    "  \"Windows Male\" = paste(\"Windows Male (\", nrow(data[data$voice == \"Windows Male\",]) ,\")\", sep = \"\")\n",
    ")"
   ]
  },
  {
   "cell_type": "code",
   "execution_count": 7,
   "metadata": {},
   "outputs": [
    {
     "ename": "ERROR",
     "evalue": "Error in table(data$voice, data$rate.speed.simple): all arguments must have the same length\n",
     "output_type": "error",
     "traceback": [
      "Error in table(data$voice, data$rate.speed.simple): all arguments must have the same length\nTraceback:\n",
      "1. as.data.frame(round(prop.table(table(data$voice, data$rate.speed.simple), \n .     margin = 1), digits = 3) * 100)",
      "2. prop.table(table(data$voice, data$rate.speed.simple), margin = 1)",
      "3. sweep(x, margin, margin.table(x, margin), \"/\", check.margin = FALSE)",
      "4. table(data$voice, data$rate.speed.simple)",
      "5. stop(\"all arguments must have the same length\")"
     ]
    }
   ],
   "source": [
    "temp = as.data.frame(round(prop.table(table(data$voice, data$rate.speed.simple), margin = 1), digits = 3)*100)\n",
    "temp = subset(temp, Var1 %in% names(group_names.voice) & Var1 != \"Text only\" & Var2 == \"Just right\")\n",
    "\n",
    "temp = merge(temp,wpm,by.x=\"Var1\",by.y=\"Voice\")\n",
    "temp = merge(temp,group_names.voice.type,by.x=\"Var1\",by.y=0)\n",
    "\n",
    "plot = ggplot(temp, aes(x = WPM, y = Freq))+#, geom_text = Var1)) +\n",
    "  geom_point() + \n",
    "  #geom_smooth(method = \"lm\", formula = y ~ poly(x,2), se=TRUE, fullrange=TRUE, level=0.95, color = 'Black') +\n",
    "  labs(y = \"% of \\\"Just Right\\\" speed ratings\", x = \"Words Per Minute\") +\n",
    "  geom_label_repel(aes(label=Var1, fill=y)) + \n",
    "  #facet_wrap( ~ Var2, labeller = as_labeller(c(\"Good\",\"Poor\"))) +\n",
    "  #theme_classic() + \n",
    "  theme(plot.margin=unit(c(.5,.5,.5,1.5),\"cm\"),\n",
    "        text = element_text(size=12),\n",
    "        #axis.text.x = element_text(angle = 30, hjust = 1, vjust = 1),\n",
    "        #axis.title.y = element_blank(),\n",
    "        #axis.title.x = element_blank(),\n",
    "        #strip.background = element_blank(),\n",
    "        panel.spacing = unit(3, \"lines\"),\n",
    "        legend.position = \"bottom\") +\n",
    "  guides(fill = guide_legend(title = element_blank()))\n",
    "  #scale_colour_brewer(palette = \"PRGn\") + \n",
    "  #scale_y_continuous(limits=c(0,1),breaks=seq(0,1,.2)) +\n",
    "  #scale_x_continuous(limits=c(0,1),breaks=seq(0,1,.2))\n",
    "\n",
    "print(plot)"
   ]
  },
  {
   "cell_type": "code",
   "execution_count": null,
   "metadata": {},
   "outputs": [],
   "source": []
  }
 ],
 "metadata": {
  "kernelspec": {
   "display_name": "R",
   "language": "R",
   "name": "ir"
  },
  "language_info": {
   "codemirror_mode": "r",
   "file_extension": ".r",
   "mimetype": "text/x-r-source",
   "name": "R",
   "pygments_lexer": "r",
   "version": "3.6.1"
  }
 },
 "nbformat": 4,
 "nbformat_minor": 2
}
