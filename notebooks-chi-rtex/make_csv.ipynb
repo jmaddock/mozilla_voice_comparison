{
 "cells": [
  {
   "cell_type": "code",
   "execution_count": 10,
   "metadata": {},
   "outputs": [],
   "source": [
    "load(\"~/research_data/mozilla_voice_comparison/Rdata\")\n",
    "\n",
    "data = data[, -c(1:21, 24, 34, 37, 48, 55, 63)]\n",
    "colnames(data) = c(\"MID\", \"audio.paused\", \"page.seconds\", \"rate.experience\", \"rate.speed\", \"rate.again\",\n",
    "                   \"voice.easy\", \"voice.monotone\", \"voice.natural\", \"voice.no_emotion\", \"voice.focus\",\n",
    "                   \"voice.all\", \"voice.none\", \"voice.other\",\n",
    "                   \"check1\", \"check2\", \"check3\", \"check4\", \"check5\", \"check6\", \"check7\", \n",
    "                   \"age\", \"gender\",\n",
    "                   \"race.asian\", \"race.hawaiian\", \"race.aa\", \"race.cc\", \"race.latin\", \"race.indian\", \"race.other\",\n",
    "                   \"income\", \"state\", \"device\", \"device.other\", \"headphones\", \"voice\")\n",
    "\n",
    "data = as.data.frame(lapply(data, function (x) if (is.factor(x)) factor(x) else x))\n",
    "    \n",
    "data$check1 = ifelse(data$check1 == \"An article about dealing with stress\", 1, 0)\n",
    "data$check2 = ifelse(data$check2 == \"His constant need for success\", 1, 0)\n",
    "data$check3 = ifelse(data$check3 == \"It oxygenates your brain\", 1, 0)\n",
    "data$check4 = ifelse(data$check4 == \"2 and 3\", 1, 0)\n",
    "data$check5 = ifelse(data$check5 == \"Ask yourself if a thought is really true.\", 1, 0)\n",
    "data$check6 = ifelse(data$check6 == \"Everything has to have a purpose\", 1, 0)\n",
    "data$check7 = ifelse(data$check7 == \"Do less than you want to do\", 1, 0)\n",
    "                            \n",
    "data$grade = round(rowMeans(data[, 15:21], na.rm = TRUE),2)*10\n",
    "\n",
    "write.csv(data,'~/research_data/mozilla_voice_comparison/ppt_data.csv')"
   ]
  },
  {
   "cell_type": "code",
   "execution_count": 9,
   "metadata": {},
   "outputs": [],
   "source": [
    "load(\"~/research_data/mozilla_voice_comparison/Rdata\")\n",
    "data = data[, -c(1:21, 24, 34, 37, 48, 55, 63)]\n",
    "colnames(data) = c(\"MID\", \"audio.paused\", \"page.seconds\", \"rate.experience\", \"rate.speed\", \"rate.again\",\n",
    "                   \"voice.easy\", \"voice.monotone\", \"voice.natural\", \"voice.no_emotion\", \"voice.focus\",\n",
    "                   \"voice.all\", \"voice.none\", \"voice.other\",\n",
    "                   \"check1\", \"check2\", \"check3\", \"check4\", \"check5\", \"check6\", \"check7\", \n",
    "                   \"age\", \"gender\",\n",
    "                   \"race.asian\", \"race.hawaiian\", \"race.aa\", \"race.cc\", \"race.latin\", \"race.indian\", \"race.other\",\n",
    "                   \"income\", \"state\", \"device\", \"device.other\", \"headphones\", \"voice\")\n",
    "\n",
    "data = as.data.frame(lapply(data, function (x) if (is.factor(x)) factor(x) else x))\n",
    "    \n",
    "data$gender = factor(data$gender, levels = c(\"\", \"Man\" , \"These don't describe me\",   \"Woman\"),\n",
    "              labels = c(\"NA\", \"Male\", \"Other\", \"Female\"))\n",
    "\n",
    "data$check1 = ifelse(data$check1 == \"An article about dealing with stress\", 1, 0)\n",
    "data$check2 = ifelse(data$check2 == \"His constant need for success\", 1, 0)\n",
    "data$check3 = ifelse(data$check3 == \"It oxygenates your brain\", 1, 0)\n",
    "data$check4 = ifelse(data$check4 == \"2 and 3\", 1, 0)\n",
    "data$check5 = ifelse(data$check5 == \"Ask yourself if a thought is really true.\", 1, 0)\n",
    "data$check6 = ifelse(data$check6 == \"Everything has to have a purpose\", 1, 0)\n",
    "data$check7 = ifelse(data$check7 == \"Do less than you want to do\", 1, 0)\n",
    "\n",
    "data$grade = round(rowMeans(data[, 15:21], na.rm = TRUE),2)*10\n",
    "\n",
    "data$rate.speed = ordered(data$rate.speed, levels = c(\"Much too fast\", \"Too fast\", \"Just right\",\n",
    "                                                      \"Too slow\", \"Much too slow\"))\n",
    "                          \n",
    "data$rate.experience = ordered(data$rate.experience, levels = c(\"Excellent\", \"Good\", \"OK\", \"Poor\", \"Very poor\"))\n",
    "            \n",
    "\n",
    "                            "
   ]
  },
  {
   "cell_type": "code",
   "execution_count": 3,
   "metadata": {},
   "outputs": [
    {
     "data": {
      "text/plain": [
       "NULL"
      ]
     },
     "metadata": {},
     "output_type": "display_data"
    }
   ],
   "source": [
    "data$grade"
   ]
  },
  {
   "cell_type": "code",
   "execution_count": null,
   "metadata": {},
   "outputs": [],
   "source": []
  }
 ],
 "metadata": {
  "kernelspec": {
   "display_name": "R",
   "language": "R",
   "name": "ir"
  },
  "language_info": {
   "codemirror_mode": "r",
   "file_extension": ".r",
   "mimetype": "text/x-r-source",
   "name": "R",
   "pygments_lexer": "r",
   "version": "3.6.1"
  }
 },
 "nbformat": 4,
 "nbformat_minor": 2
}
