{
 "cells": [
  {
   "cell_type": "code",
   "execution_count": 2,
   "metadata": {},
   "outputs": [
    {
     "data": {
      "text/html": [
       "<table>\n",
       "<caption>A data.frame: 4 × 5</caption>\n",
       "<thead>\n",
       "\t<tr><th></th><th scope=col>Variable</th><th scope=col>Odds Ratio</th><th scope=col>Coef</th><th scope=col>s.e.</th><th scope=col>p</th></tr>\n",
       "\t<tr><th></th><th scope=col>&lt;fct&gt;</th><th scope=col>&lt;dbl&gt;</th><th scope=col>&lt;dbl&gt;</th><th scope=col>&lt;dbl&gt;</th><th scope=col>&lt;list&gt;</th></tr>\n",
       "</thead>\n",
       "<tbody>\n",
       "\t<tr><th scope=row>1</th><td>$\\mathit{Speed_{V}       </td><td>0.731268065</td><td>-0.3129752</td><td>2.12513037</td><td>0.883</td></tr>\n",
       "\t<tr><th scope=row>2</th><td>$\\mathit{Speed_{V}^{2}}  </td><td>0.007720977</td><td>-4.8638144</td><td>2.12362827</td><td>0.022*</td></tr>\n",
       "\t<tr><th scope=row>4</th><td>$\\mathit{Very.poor|Poor} </td><td>0.028420970</td><td>-3.5606280</td><td>0.18857762</td><td>0.000*</td></tr>\n",
       "\t<tr><th scope=row>3</th><td>$\\mathit{poor|Just.right}</td><td>0.400841971</td><td>-0.9141880</td><td>0.06894714</td><td>0.000*</td></tr>\n",
       "</tbody>\n",
       "</table>\n"
      ],
      "text/latex": [
       "A data.frame: 4 × 5\n",
       "\\begin{tabular}{r|lllll}\n",
       "  & Variable & Odds Ratio & Coef & s.e. & p\\\\\n",
       "  & <fct> & <dbl> & <dbl> & <dbl> & <list>\\\\\n",
       "\\hline\n",
       "\t1 & \\$\\textbackslash{}mathit\\{Speed\\_\\{V\\}        & 0.731268065 & -0.3129752 & 2.12513037 & 0.883\\\\\n",
       "\t2 & \\$\\textbackslash{}mathit\\{Speed\\_\\{V\\}\\textasciicircum{}\\{2\\}\\}   & 0.007720977 & -4.8638144 & 2.12362827 & 0.022*\\\\\n",
       "\t4 & \\$\\textbackslash{}mathit\\{Very.poor\\textbar{}Poor\\}  & 0.028420970 & -3.5606280 & 0.18857762 & 0.000*\\\\\n",
       "\t3 & \\$\\textbackslash{}mathit\\{poor\\textbar{}Just.right\\} & 0.400841971 & -0.9141880 & 0.06894714 & 0.000*\\\\\n",
       "\\end{tabular}\n"
      ],
      "text/markdown": [
       "\n",
       "A data.frame: 4 × 5\n",
       "\n",
       "| <!--/--> | Variable &lt;fct&gt; | Odds Ratio &lt;dbl&gt; | Coef &lt;dbl&gt; | s.e. &lt;dbl&gt; | p &lt;list&gt; |\n",
       "|---|---|---|---|---|---|\n",
       "| 1 | $\\mathit{Speed_{V}        | 0.731268065 | -0.3129752 | 2.12513037 | 0.883 |\n",
       "| 2 | $\\mathit{Speed_{V}^{2}}   | 0.007720977 | -4.8638144 | 2.12362827 | 0.022* |\n",
       "| 4 | $\\mathit{Very.poor|Poor}  | 0.028420970 | -3.5606280 | 0.18857762 | 0.000* |\n",
       "| 3 | $\\mathit{poor|Just.right} | 0.400841971 | -0.9141880 | 0.06894714 | 0.000* |\n",
       "\n"
      ],
      "text/plain": [
       "  Variable                   Odds Ratio  Coef       s.e.       p     \n",
       "1 $\\\\mathit{Speed_{V}        0.731268065 -0.3129752 2.12513037 0.883 \n",
       "2 $\\\\mathit{Speed_{V}^{2}}   0.007720977 -4.8638144 2.12362827 0.022*\n",
       "4 $\\\\mathit{Very.poor|Poor}  0.028420970 -3.5606280 0.18857762 0.000*\n",
       "3 $\\\\mathit{poor|Just.right} 0.400841971 -0.9141880 0.06894714 0.000*"
      ]
     },
     "metadata": {},
     "output_type": "display_data"
    }
   ],
   "source": [
    "library(MASS)\n",
    "\n",
    "addSig = function (x) {\n",
    "    if (x < .05) {return(paste(sprintf(x, fmt = '%#.3f'),'*',sep=\"\"))}\n",
    "    else {return(sprintf(x, fmt = '%#.3f'))}\n",
    "}\n",
    "\n",
    "# load data from file\n",
    "data = read.csv(\"~/research_data/mozilla_voice_comparison/ppt_data.csv\")\n",
    "wpm = read.csv(\"~/research_data/mozilla_voice_comparison/voice_metadata.csv\")\n",
    "\n",
    "data = subset(data, voice != 'Text only')\n",
    "data$rate.speed = ordered(data$rate.speed, levels = c(\"Much too slow\",\"Too slow\",\"Just right\",\"Too fast\",\"Much too fast\"))\n",
    "data$rate.speed.simple = data$rate.speed\n",
    "levels(data$rate.speed.simple) = c('Very poor','poor','Just right','poor','Very poor')\n",
    "data$rate.speed.simple = ordered(data$rate.speed.simple, levels = c('Very poor','poor','Just right'))\n",
    "\n",
    "data = merge(data, wpm, by.x = 'voice', by.y = 'Voice')\n",
    "\n",
    "m <- polr(rate.speed.simple ~ poly(WPM, 2), data = data, Hess=TRUE)\n",
    "ctable <- coef(summary(m))\n",
    "p <- pnorm(abs(ctable[, \"t value\"]), lower.tail = FALSE) * 2\n",
    "ctable <- cbind(ctable, \"pvalue\" = p)\n",
    "ctable = as.data.frame.matrix(ctable)\n",
    "ctable$odds.ratio = exp(ctable$Value)\n",
    "ctable$pvalue = lapply(ctable$pvalue, addSig)\n",
    "result = ctable\n",
    "\n",
    "vars = c(\n",
    "    'poly(WPM, 2)1' = '$\\\\mathit{Speed_{V}',\n",
    "    'poly(WPM, 2)2' = '$\\\\mathit{Speed_{V}^{2}}',\n",
    "    'Very poor|poor' = '$\\\\mathit{Very.poor|Poor}',\n",
    "    'poor|Just right' = '$\\\\mathit{poor|Just.right}'\n",
    ")\n",
    "\n",
    "rank = c(\n",
    "    'poly(WPM, 2)1' = 1,\n",
    "    'poly(WPM, 2)2' = 2,\n",
    "    'Very poor|poor' = 3,\n",
    "    'poor|Just right' = 4\n",
    ")\n",
    "\n",
    "result = merge(result,vars, by.x=0, by.y=0)\n",
    "result = merge(result,rank, by.x='Row.names', by.y=0)\n",
    "result = result[order(result$y.y),]\n",
    "\n",
    "include = c('y.x','odds.ratio', 'Value', 'Std. Error','pvalue')\n",
    "result = result[,include]\n",
    "header = c('Variable','Odds Ratio','Coef', 's.e.','p')\n",
    "names(result) = header\n",
    "\n",
    "result"
   ]
  },
  {
   "cell_type": "code",
   "execution_count": null,
   "metadata": {},
   "outputs": [],
   "source": []
  }
 ],
 "metadata": {
  "kernelspec": {
   "display_name": "R",
   "language": "R",
   "name": "ir"
  },
  "language_info": {
   "codemirror_mode": "r",
   "file_extension": ".r",
   "mimetype": "text/x-r-source",
   "name": "R",
   "pygments_lexer": "r",
   "version": "3.6.1"
  }
 },
 "nbformat": 4,
 "nbformat_minor": 2
}
