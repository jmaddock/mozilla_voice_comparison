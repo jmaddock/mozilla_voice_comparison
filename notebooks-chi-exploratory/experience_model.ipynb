{
 "cells": [
  {
   "cell_type": "code",
   "execution_count": 22,
   "metadata": {},
   "outputs": [],
   "source": [
    "require(MASS)"
   ]
  },
  {
   "cell_type": "code",
   "execution_count": 23,
   "metadata": {},
   "outputs": [],
   "source": [
    "# load data from file\n",
    "data = read.csv(\"~/research_data/mozilla_voice_comparison/ppt_data.csv\")\n",
    "wpm = read.csv(\"~/research_data/mozilla_voice_comparison/voice_metadata.csv\")\n",
    "\n",
    "data = as.data.frame(lapply(data, function (x) if (is.factor(x)) factor(x) else x))"
   ]
  },
  {
   "cell_type": "code",
   "execution_count": 24,
   "metadata": {},
   "outputs": [],
   "source": [
    "data = subset(data, voice != 'Text only')\n",
    "data$rate.speed = ordered(data$rate.speed, levels = c(\"Much too slow\",\"Too slow\",\"Just right\",\"Too fast\",\"Much too fast\"))\n",
    "data$rate.speed.simple = data$rate.speed\n",
    "levels(data$rate.speed.simple) = c('Very poor','poor','Just right','poor','Very poor')\n",
    "data$rate.speed.simple = ordered(data$rate.speed.simple, levels = c('Very poor','poor','Just right'))\n",
    "data$rate.experience = ordered(data$rate.experience, levels = c(\"Very poor\", \"Poor\", \"OK\", \"Good\", \"Excellent\"))\n",
    "data$gender = factor(data$gender, levels = c('Woman','Man'), labels = c('Female','Male'))\n",
    "data = subset(data, gender %in% c('Male','Female'))\n",
    "                       \n",
    "wpm$TTS.Voice.Gender = factor(wpm$TTS.Voice.Gender)\n",
    "wpm$Type = factor(wpm$Type)\n",
    "\n",
    "data = merge(data, wpm, by.x = 'voice', by.y = 'Voice')"
   ]
  },
  {
   "cell_type": "code",
   "execution_count": 10,
   "metadata": {},
   "outputs": [],
   "source": [
    "data <- within(data, voice <- relevel(voice, ref = 3))"
   ]
  },
  {
   "cell_type": "code",
   "execution_count": 18,
   "metadata": {},
   "outputs": [
    {
     "data": {
      "text/plain": [
       "Call:\n",
       "polr(formula = rate.experience ~ WPM + Type + gender + TTS.Voice.Gender + \n",
       "    headphones + TTS.Voice.Gender * gender, data = data, Hess = TRUE)\n",
       "\n",
       "Coefficients:\n",
       "                                    Value Std. Error t value\n",
       "WPM                             -0.004071   0.003489 -1.1667\n",
       "TypeTTS                         -0.724650   0.167546 -4.3251\n",
       "genderMale                      -0.017034   0.143544 -0.1187\n",
       "TTS.Voice.GenderMale             0.429553   0.193131  2.2242\n",
       "headphonesYes                    0.393150   0.130909  3.0032\n",
       "genderMale:TTS.Voice.GenderMale -0.300458   0.245726 -1.2227\n",
       "\n",
       "Intercepts:\n",
       "               Value   Std. Error t value\n",
       "Very poor|Poor -4.7245  0.6485    -7.2854\n",
       "Poor|OK        -2.6765  0.6209    -4.3110\n",
       "OK|Good        -1.0263  0.6162    -1.6655\n",
       "Good|Excellent  0.8030  0.6156     1.3044\n",
       "\n",
       "Residual Deviance: 2772.006 \n",
       "AIC: 2792.006 "
      ]
     },
     "metadata": {},
     "output_type": "display_data"
    },
    {
     "name": "stdout",
     "output_type": "stream",
     "text": [
      "[1] \"0.243*\"\n",
      "[1] \"0.000*\"\n",
      "[1] \"0.906*\"\n",
      "[1] \"0.026*\"\n",
      "[1] \"0.003*\"\n",
      "[1] \"0.221*\"\n",
      "[1] \"0.000*\"\n",
      "[1] \"0.000*\"\n",
      "[1] \"0.096*\"\n",
      "[1] \"0.192*\"\n"
     ]
    },
    {
     "data": {
      "text/html": [
       "<table>\n",
       "<caption>A data.frame: 10 × 6</caption>\n",
       "<thead>\n",
       "\t<tr><th></th><th scope=col>Value</th><th scope=col>Std. Error</th><th scope=col>t value</th><th scope=col>pvalue</th><th scope=col>sig</th><th scope=col>odds.ratio</th></tr>\n",
       "\t<tr><th></th><th scope=col>&lt;dbl&gt;</th><th scope=col>&lt;dbl&gt;</th><th scope=col>&lt;dbl&gt;</th><th scope=col>&lt;dbl&gt;</th><th scope=col>&lt;list&gt;</th><th scope=col>&lt;dbl&gt;</th></tr>\n",
       "</thead>\n",
       "<tbody>\n",
       "\t<tr><th scope=row>WPM</th><td>-0.004071013</td><td>0.003489215</td><td>-1.1667418</td><td>0.243</td><td>0.243</td><td>0.995937262</td></tr>\n",
       "\t<tr><th scope=row>TypeTTS</th><td>-0.724649505</td><td>0.167546068</td><td>-4.3250762</td><td>0.000</td><td>0.000*</td><td>0.484494352</td></tr>\n",
       "\t<tr><th scope=row>genderMale</th><td>-0.017034303</td><td>0.143544354</td><td>-0.1186693</td><td>0.906</td><td>0.906</td><td>0.983109960</td></tr>\n",
       "\t<tr><th scope=row>TTS.Voice.GenderMale</th><td> 0.429552778</td><td>0.193130886</td><td> 2.2241537</td><td>0.026</td><td>0.026*</td><td>1.536570183</td></tr>\n",
       "\t<tr><th scope=row>headphonesYes</th><td> 0.393149898</td><td>0.130909143</td><td> 3.0032272</td><td>0.003</td><td>0.003*</td><td>1.481640467</td></tr>\n",
       "\t<tr><th scope=row>genderMale:TTS.Voice.GenderMale</th><td>-0.300457639</td><td>0.245725954</td><td>-1.2227346</td><td>0.221</td><td>0.221</td><td>0.740479271</td></tr>\n",
       "\t<tr><th scope=row>Very poor|Poor</th><td>-4.724480211</td><td>0.648484181</td><td>-7.2854209</td><td>0.000</td><td>0.000*</td><td>0.008875326</td></tr>\n",
       "\t<tr><th scope=row>Poor|OK</th><td>-2.676491589</td><td>0.620852822</td><td>-4.3109921</td><td>0.000</td><td>0.000*</td><td>0.068804124</td></tr>\n",
       "\t<tr><th scope=row>OK|Good</th><td>-1.026287872</td><td>0.616199093</td><td>-1.6655134</td><td>0.096</td><td>0.096</td><td>0.358334679</td></tr>\n",
       "\t<tr><th scope=row>Good|Excellent</th><td> 0.802990162</td><td>0.615592033</td><td> 1.3044194</td><td>0.192</td><td>0.192</td><td>2.232205616</td></tr>\n",
       "</tbody>\n",
       "</table>\n"
      ],
      "text/latex": [
       "A data.frame: 10 × 6\n",
       "\\begin{tabular}{r|llllll}\n",
       "  & Value & Std. Error & t value & pvalue & sig & odds.ratio\\\\\n",
       "  & <dbl> & <dbl> & <dbl> & <dbl> & <list> & <dbl>\\\\\n",
       "\\hline\n",
       "\tWPM & -0.004071013 & 0.003489215 & -1.1667418 & 0.243 & 0.243 & 0.995937262\\\\\n",
       "\tTypeTTS & -0.724649505 & 0.167546068 & -4.3250762 & 0.000 & 0.000* & 0.484494352\\\\\n",
       "\tgenderMale & -0.017034303 & 0.143544354 & -0.1186693 & 0.906 & 0.906 & 0.983109960\\\\\n",
       "\tTTS.Voice.GenderMale &  0.429552778 & 0.193130886 &  2.2241537 & 0.026 & 0.026* & 1.536570183\\\\\n",
       "\theadphonesYes &  0.393149898 & 0.130909143 &  3.0032272 & 0.003 & 0.003* & 1.481640467\\\\\n",
       "\tgenderMale:TTS.Voice.GenderMale & -0.300457639 & 0.245725954 & -1.2227346 & 0.221 & 0.221 & 0.740479271\\\\\n",
       "\tVery poor\\textbar{}Poor & -4.724480211 & 0.648484181 & -7.2854209 & 0.000 & 0.000* & 0.008875326\\\\\n",
       "\tPoor\\textbar{}OK & -2.676491589 & 0.620852822 & -4.3109921 & 0.000 & 0.000* & 0.068804124\\\\\n",
       "\tOK\\textbar{}Good & -1.026287872 & 0.616199093 & -1.6655134 & 0.096 & 0.096 & 0.358334679\\\\\n",
       "\tGood\\textbar{}Excellent &  0.802990162 & 0.615592033 &  1.3044194 & 0.192 & 0.192 & 2.232205616\\\\\n",
       "\\end{tabular}\n"
      ],
      "text/markdown": [
       "\n",
       "A data.frame: 10 × 6\n",
       "\n",
       "| <!--/--> | Value &lt;dbl&gt; | Std. Error &lt;dbl&gt; | t value &lt;dbl&gt; | pvalue &lt;dbl&gt; | sig &lt;list&gt; | odds.ratio &lt;dbl&gt; |\n",
       "|---|---|---|---|---|---|---|\n",
       "| WPM | -0.004071013 | 0.003489215 | -1.1667418 | 0.243 | 0.243 | 0.995937262 |\n",
       "| TypeTTS | -0.724649505 | 0.167546068 | -4.3250762 | 0.000 | 0.000* | 0.484494352 |\n",
       "| genderMale | -0.017034303 | 0.143544354 | -0.1186693 | 0.906 | 0.906 | 0.983109960 |\n",
       "| TTS.Voice.GenderMale |  0.429552778 | 0.193130886 |  2.2241537 | 0.026 | 0.026* | 1.536570183 |\n",
       "| headphonesYes |  0.393149898 | 0.130909143 |  3.0032272 | 0.003 | 0.003* | 1.481640467 |\n",
       "| genderMale:TTS.Voice.GenderMale | -0.300457639 | 0.245725954 | -1.2227346 | 0.221 | 0.221 | 0.740479271 |\n",
       "| Very poor|Poor | -4.724480211 | 0.648484181 | -7.2854209 | 0.000 | 0.000* | 0.008875326 |\n",
       "| Poor|OK | -2.676491589 | 0.620852822 | -4.3109921 | 0.000 | 0.000* | 0.068804124 |\n",
       "| OK|Good | -1.026287872 | 0.616199093 | -1.6655134 | 0.096 | 0.096 | 0.358334679 |\n",
       "| Good|Excellent |  0.802990162 | 0.615592033 |  1.3044194 | 0.192 | 0.192 | 2.232205616 |\n",
       "\n"
      ],
      "text/plain": [
       "                                Value        Std. Error  t value    pvalue\n",
       "WPM                             -0.004071013 0.003489215 -1.1667418 0.243 \n",
       "TypeTTS                         -0.724649505 0.167546068 -4.3250762 0.000 \n",
       "genderMale                      -0.017034303 0.143544354 -0.1186693 0.906 \n",
       "TTS.Voice.GenderMale             0.429552778 0.193130886  2.2241537 0.026 \n",
       "headphonesYes                    0.393149898 0.130909143  3.0032272 0.003 \n",
       "genderMale:TTS.Voice.GenderMale -0.300457639 0.245725954 -1.2227346 0.221 \n",
       "Very poor|Poor                  -4.724480211 0.648484181 -7.2854209 0.000 \n",
       "Poor|OK                         -2.676491589 0.620852822 -4.3109921 0.000 \n",
       "OK|Good                         -1.026287872 0.616199093 -1.6655134 0.096 \n",
       "Good|Excellent                   0.802990162 0.615592033  1.3044194 0.192 \n",
       "                                sig    odds.ratio \n",
       "WPM                             0.243  0.995937262\n",
       "TypeTTS                         0.000* 0.484494352\n",
       "genderMale                      0.906  0.983109960\n",
       "TTS.Voice.GenderMale            0.026* 1.536570183\n",
       "headphonesYes                   0.003* 1.481640467\n",
       "genderMale:TTS.Voice.GenderMale 0.221  0.740479271\n",
       "Very poor|Poor                  0.000* 0.008875326\n",
       "Poor|OK                         0.000* 0.068804124\n",
       "OK|Good                         0.096  0.358334679\n",
       "Good|Excellent                  0.192  2.232205616"
      ]
     },
     "metadata": {},
     "output_type": "display_data"
    }
   ],
   "source": [
    "m <- polr(rate.experience ~ WPM + Type + gender + TTS.Voice.Gender + headphones + TTS.Voice.Gender*gender, data = data, Hess=TRUE)\n",
    "summary(m)\n",
    "ctable <- coef(summary(m))\n",
    "p <- round(pnorm(abs(ctable[, \"t value\"]), lower.tail = FALSE) * 2, digits = 3)\n",
    "ctable <- cbind(ctable, \"pvalue\" = p)\n",
    "ctable = as.data.frame.matrix(ctable)\n",
    "ctable$sig = lapply(ctable$pvalue, addSig)\n",
    "ctable$odds.ratio = exp(ctable$Value)\n",
    "ctable"
   ]
  },
  {
   "cell_type": "code",
   "execution_count": null,
   "metadata": {},
   "outputs": [],
   "source": [
    "m <- polr(rate.experience ~ poly(WPM,2) + voice + Type + gender + headphones + voice*gender, data = data, Hess=TRUE)\n",
    "summary(m)\n",
    "ctable <- coef(summary(m))\n",
    "p <- round(pnorm(abs(ctable[, \"t value\"]), lower.tail = FALSE) * 2, digits = 3)\n",
    "ctable <- cbind(ctable, \"pvalue\" = p)\n",
    "ctable = as.data.frame.matrix(ctable)\n",
    "ctable$sig = lapply(ctable$pvalue, addSig)\n",
    "ctable\n",
    "#m <- polr(rate.experience ~ TTS.Voice.Gender, data = data, Hess=TRUE)"
   ]
  },
  {
   "cell_type": "code",
   "execution_count": 25,
   "metadata": {},
   "outputs": [
    {
     "data": {
      "text/plain": [
       "Call:\n",
       "polr(formula = rate.experience ~ poly(WPM, 2) + Type + gender + \n",
       "    TTS.Voice.Gender + headphones + TTS.Voice.Gender * gender, \n",
       "    data = data, Hess = TRUE)\n",
       "\n",
       "Coefficients:\n",
       "                                    Value Std. Error  t value\n",
       "poly(WPM, 2)1                   -2.088792     1.8291 -1.14195\n",
       "poly(WPM, 2)2                   -3.638974     1.8367 -1.98128\n",
       "TypeTTS                         -0.810601     0.1734 -4.67411\n",
       "genderMale                      -0.004877     0.1436 -0.03396\n",
       "TTS.Voice.GenderMale             0.432191     0.1931  2.23846\n",
       "headphonesYes                    0.391553     0.1308  2.99343\n",
       "genderMale:TTS.Voice.GenderMale -0.309112     0.2457 -1.25801\n",
       "\n",
       "Intercepts:\n",
       "               Value    Std. Error t value \n",
       "Very poor|Poor  -4.1113   0.2953   -13.9205\n",
       "Poor|OK         -2.0620   0.2270    -9.0833\n",
       "OK|Good         -0.4054   0.2173    -1.8653\n",
       "Good|Excellent   1.4281   0.2231     6.4012\n",
       "\n",
       "Residual Deviance: 2768.067 \n",
       "AIC: 2790.067 "
      ]
     },
     "metadata": {},
     "output_type": "display_data"
    },
    {
     "name": "stdout",
     "output_type": "stream",
     "text": [
      "[1] \"0.253*\"\n",
      "[1] \"0.048*\"\n",
      "[1] \"0.000*\"\n",
      "[1] \"0.973*\"\n",
      "[1] \"0.025*\"\n",
      "[1] \"0.003*\"\n",
      "[1] \"0.208*\"\n",
      "[1] \"0.000*\"\n",
      "[1] \"0.000*\"\n",
      "[1] \"0.062*\"\n",
      "[1] \"0.000*\"\n"
     ]
    },
    {
     "data": {
      "text/html": [
       "<table>\n",
       "<caption>A data.frame: 11 × 6</caption>\n",
       "<thead>\n",
       "\t<tr><th></th><th scope=col>Value</th><th scope=col>Std. Error</th><th scope=col>t value</th><th scope=col>pvalue</th><th scope=col>sig</th><th scope=col>odds.ratio</th></tr>\n",
       "\t<tr><th></th><th scope=col>&lt;dbl&gt;</th><th scope=col>&lt;dbl&gt;</th><th scope=col>&lt;dbl&gt;</th><th scope=col>&lt;dbl&gt;</th><th scope=col>&lt;list&gt;</th><th scope=col>&lt;dbl&gt;</th></tr>\n",
       "</thead>\n",
       "<tbody>\n",
       "\t<tr><th scope=row>poly(WPM, 2)1</th><td>-2.088791568</td><td>1.8291381</td><td> -1.14195400</td><td>2.534731e-01</td><td>0.253</td><td>0.12383669</td></tr>\n",
       "\t<tr><th scope=row>poly(WPM, 2)2</th><td>-3.638973530</td><td>1.8366783</td><td> -1.98127978</td><td>4.755991e-02</td><td>0.048*</td><td>0.02627931</td></tr>\n",
       "\t<tr><th scope=row>TypeTTS</th><td>-0.810601432</td><td>0.1734239</td><td> -4.67410535</td><td>2.952378e-06</td><td>0.000*</td><td>0.44459059</td></tr>\n",
       "\t<tr><th scope=row>genderMale</th><td>-0.004876927</td><td>0.1436051</td><td> -0.03396067</td><td>9.729085e-01</td><td>0.973</td><td>0.99513495</td></tr>\n",
       "\t<tr><th scope=row>TTS.Voice.GenderMale</th><td> 0.432191104</td><td>0.1930749</td><td>  2.23846297</td><td>2.519088e-02</td><td>0.025*</td><td>1.54062951</td></tr>\n",
       "\t<tr><th scope=row>headphonesYes</th><td> 0.391552686</td><td>0.1308039</td><td>  2.99343276</td><td>2.758583e-03</td><td>0.003*</td><td>1.47927586</td></tr>\n",
       "\t<tr><th scope=row>genderMale:TTS.Voice.GenderMale</th><td>-0.309111981</td><td>0.2457147</td><td> -1.25801158</td><td>2.083876e-01</td><td>0.208</td><td>0.73409856</td></tr>\n",
       "\t<tr><th scope=row>Very poor|Poor</th><td>-4.111289357</td><td>0.2953414</td><td>-13.92046510</td><td>4.757978e-44</td><td>0.000*</td><td>0.01638663</td></tr>\n",
       "\t<tr><th scope=row>Poor|OK</th><td>-2.061999595</td><td>0.2270095</td><td> -9.08331994</td><td>1.053125e-19</td><td>0.000*</td><td>0.12719937</td></tr>\n",
       "\t<tr><th scope=row>OK|Good</th><td>-0.405408821</td><td>0.2173394</td><td> -1.86532581</td><td>6.213575e-02</td><td>0.062</td><td>0.66670419</td></tr>\n",
       "\t<tr><th scope=row>Good|Excellent</th><td> 1.428076707</td><td>0.2230939</td><td>  6.40123701</td><td>1.541231e-10</td><td>0.000*</td><td>4.17067005</td></tr>\n",
       "</tbody>\n",
       "</table>\n"
      ],
      "text/latex": [
       "A data.frame: 11 × 6\n",
       "\\begin{tabular}{r|llllll}\n",
       "  & Value & Std. Error & t value & pvalue & sig & odds.ratio\\\\\n",
       "  & <dbl> & <dbl> & <dbl> & <dbl> & <list> & <dbl>\\\\\n",
       "\\hline\n",
       "\tpoly(WPM, 2)1 & -2.088791568 & 1.8291381 &  -1.14195400 & 2.534731e-01 & 0.253 & 0.12383669\\\\\n",
       "\tpoly(WPM, 2)2 & -3.638973530 & 1.8366783 &  -1.98127978 & 4.755991e-02 & 0.048* & 0.02627931\\\\\n",
       "\tTypeTTS & -0.810601432 & 0.1734239 &  -4.67410535 & 2.952378e-06 & 0.000* & 0.44459059\\\\\n",
       "\tgenderMale & -0.004876927 & 0.1436051 &  -0.03396067 & 9.729085e-01 & 0.973 & 0.99513495\\\\\n",
       "\tTTS.Voice.GenderMale &  0.432191104 & 0.1930749 &   2.23846297 & 2.519088e-02 & 0.025* & 1.54062951\\\\\n",
       "\theadphonesYes &  0.391552686 & 0.1308039 &   2.99343276 & 2.758583e-03 & 0.003* & 1.47927586\\\\\n",
       "\tgenderMale:TTS.Voice.GenderMale & -0.309111981 & 0.2457147 &  -1.25801158 & 2.083876e-01 & 0.208 & 0.73409856\\\\\n",
       "\tVery poor\\textbar{}Poor & -4.111289357 & 0.2953414 & -13.92046510 & 4.757978e-44 & 0.000* & 0.01638663\\\\\n",
       "\tPoor\\textbar{}OK & -2.061999595 & 0.2270095 &  -9.08331994 & 1.053125e-19 & 0.000* & 0.12719937\\\\\n",
       "\tOK\\textbar{}Good & -0.405408821 & 0.2173394 &  -1.86532581 & 6.213575e-02 & 0.062 & 0.66670419\\\\\n",
       "\tGood\\textbar{}Excellent &  1.428076707 & 0.2230939 &   6.40123701 & 1.541231e-10 & 0.000* & 4.17067005\\\\\n",
       "\\end{tabular}\n"
      ],
      "text/markdown": [
       "\n",
       "A data.frame: 11 × 6\n",
       "\n",
       "| <!--/--> | Value &lt;dbl&gt; | Std. Error &lt;dbl&gt; | t value &lt;dbl&gt; | pvalue &lt;dbl&gt; | sig &lt;list&gt; | odds.ratio &lt;dbl&gt; |\n",
       "|---|---|---|---|---|---|---|\n",
       "| poly(WPM, 2)1 | -2.088791568 | 1.8291381 |  -1.14195400 | 2.534731e-01 | 0.253 | 0.12383669 |\n",
       "| poly(WPM, 2)2 | -3.638973530 | 1.8366783 |  -1.98127978 | 4.755991e-02 | 0.048* | 0.02627931 |\n",
       "| TypeTTS | -0.810601432 | 0.1734239 |  -4.67410535 | 2.952378e-06 | 0.000* | 0.44459059 |\n",
       "| genderMale | -0.004876927 | 0.1436051 |  -0.03396067 | 9.729085e-01 | 0.973 | 0.99513495 |\n",
       "| TTS.Voice.GenderMale |  0.432191104 | 0.1930749 |   2.23846297 | 2.519088e-02 | 0.025* | 1.54062951 |\n",
       "| headphonesYes |  0.391552686 | 0.1308039 |   2.99343276 | 2.758583e-03 | 0.003* | 1.47927586 |\n",
       "| genderMale:TTS.Voice.GenderMale | -0.309111981 | 0.2457147 |  -1.25801158 | 2.083876e-01 | 0.208 | 0.73409856 |\n",
       "| Very poor|Poor | -4.111289357 | 0.2953414 | -13.92046510 | 4.757978e-44 | 0.000* | 0.01638663 |\n",
       "| Poor|OK | -2.061999595 | 0.2270095 |  -9.08331994 | 1.053125e-19 | 0.000* | 0.12719937 |\n",
       "| OK|Good | -0.405408821 | 0.2173394 |  -1.86532581 | 6.213575e-02 | 0.062 | 0.66670419 |\n",
       "| Good|Excellent |  1.428076707 | 0.2230939 |   6.40123701 | 1.541231e-10 | 0.000* | 4.17067005 |\n",
       "\n"
      ],
      "text/plain": [
       "                                Value        Std. Error t value     \n",
       "poly(WPM, 2)1                   -2.088791568 1.8291381   -1.14195400\n",
       "poly(WPM, 2)2                   -3.638973530 1.8366783   -1.98127978\n",
       "TypeTTS                         -0.810601432 0.1734239   -4.67410535\n",
       "genderMale                      -0.004876927 0.1436051   -0.03396067\n",
       "TTS.Voice.GenderMale             0.432191104 0.1930749    2.23846297\n",
       "headphonesYes                    0.391552686 0.1308039    2.99343276\n",
       "genderMale:TTS.Voice.GenderMale -0.309111981 0.2457147   -1.25801158\n",
       "Very poor|Poor                  -4.111289357 0.2953414  -13.92046510\n",
       "Poor|OK                         -2.061999595 0.2270095   -9.08331994\n",
       "OK|Good                         -0.405408821 0.2173394   -1.86532581\n",
       "Good|Excellent                   1.428076707 0.2230939    6.40123701\n",
       "                                pvalue       sig    odds.ratio\n",
       "poly(WPM, 2)1                   2.534731e-01 0.253  0.12383669\n",
       "poly(WPM, 2)2                   4.755991e-02 0.048* 0.02627931\n",
       "TypeTTS                         2.952378e-06 0.000* 0.44459059\n",
       "genderMale                      9.729085e-01 0.973  0.99513495\n",
       "TTS.Voice.GenderMale            2.519088e-02 0.025* 1.54062951\n",
       "headphonesYes                   2.758583e-03 0.003* 1.47927586\n",
       "genderMale:TTS.Voice.GenderMale 2.083876e-01 0.208  0.73409856\n",
       "Very poor|Poor                  4.757978e-44 0.000* 0.01638663\n",
       "Poor|OK                         1.053125e-19 0.000* 0.12719937\n",
       "OK|Good                         6.213575e-02 0.062  0.66670419\n",
       "Good|Excellent                  1.541231e-10 0.000* 4.17067005"
      ]
     },
     "metadata": {},
     "output_type": "display_data"
    }
   ],
   "source": [
    "m <- polr(rate.experience ~ poly(WPM,2) + Type + gender + TTS.Voice.Gender + headphones + TTS.Voice.Gender*gender, data = data, Hess=TRUE)\n",
    "summary(m)\n",
    "ctable <- coef(summary(m))\n",
    "p <- pnorm(abs(ctable[, \"t value\"]), lower.tail = FALSE) * 2\n",
    "ctable <- cbind(ctable, \"pvalue\" = p)\n",
    "ctable = as.data.frame.matrix(ctable)\n",
    "ctable$sig = lapply(ctable$pvalue, addSig)\n",
    "ctable$odds.ratio = exp(ctable$Value)\n",
    "ctable"
   ]
  },
  {
   "cell_type": "code",
   "execution_count": null,
   "metadata": {},
   "outputs": [],
   "source": [
    "vars = c(\n",
    "    'poly(WPM, 2)1' = 'WPM',\n",
    "    'poly(WPM, 2)2' = 'WPM^2',\n",
    "    'TypeTTS' = 'Type_Voice',\n",
    "    'genderMale' = 'Gender_Listener',\n",
    "    'TTS.Voice.GenderMale' = 'Gender_Voice',\n",
    "    'headphonesYes' = 'Headphones_Listener',\n",
    "    'genderMale:TTS.Voice.GenderMale' = 'Gender*Gender',\n",
    "    'Very poor|Poor' = 'Very poor|Poor',\n",
    "    'Poor|OK' = 'Poor|OK',\n",
    "    'OK|Good' ='OK|Good',\n",
    "    'Good|Excellent' = 'Good|Excellent'\n",
    ")\n",
    "ctable = merge(ctable,vars, by.x=0, by.y=0)\n",
    "ctable"
   ]
  },
  {
   "cell_type": "code",
   "execution_count": 12,
   "metadata": {},
   "outputs": [],
   "source": [
    "addSig = function (x) {\n",
    "    print(paste(sprintf(x, fmt = '%#.3f'),'*',sep=\"\"))\n",
    "    if (x < .05) {return(paste(sprintf(x, fmt = '%#.3f'),'*',sep=\"\"))}\n",
    "    else {return(sprintf(x, fmt = '%#.3f'))}\n",
    "}"
   ]
  },
  {
   "cell_type": "code",
   "execution_count": null,
   "metadata": {},
   "outputs": [],
   "source": [
    "chisq.test(data$TTS.Voice.Gender, data$voice)"
   ]
  },
  {
   "cell_type": "code",
   "execution_count": null,
   "metadata": {},
   "outputs": [],
   "source": [
    "m <- polr(rate.speed ~ poly(WPM,2) + voice + Type + gender + headphones + voice*gender, data = data, Hess=TRUE)\n",
    "summary(m)\n",
    "ctable <- coef(summary(m))\n",
    "p <- round(pnorm(abs(ctable[, \"t value\"]), lower.tail = FALSE) * 2, digits = 3)\n",
    "ctable <- cbind(ctable, \"pvalue\" = p)\n",
    "ctable = as.data.frame.matrix(ctable)\n",
    "ctable$sig = lapply(ctable$pvalue, addSig)\n",
    "ctable\n",
    "#m <- polr(rate.experience ~ TTS.Voice.Gender, data = data, Hess=TRUE)"
   ]
  },
  {
   "cell_type": "code",
   "execution_count": 19,
   "metadata": {},
   "outputs": [
    {
     "data": {
      "text/plain": [
       "Call:\n",
       "polr(formula = rate.speed ~ poly(WPM, 2) + Type + gender + TTS.Voice.Gender + \n",
       "    headphones + TTS.Voice.Gender * gender, data = data, Hess = TRUE)\n",
       "\n",
       "Coefficients:\n",
       "                                   Value Std. Error t value\n",
       "poly(WPM, 2)1                   14.29558     2.2564  6.3354\n",
       "poly(WPM, 2)2                    5.60472     2.1752  2.5766\n",
       "TypeTTS                          0.28195     0.2078  1.3568\n",
       "genderMale                       0.11191     0.1743  0.6422\n",
       "TTS.Voice.GenderMale             0.04755     0.2337  0.2035\n",
       "headphonesYes                   -0.06177     0.1569 -0.3936\n",
       "genderMale:TTS.Voice.GenderMale -0.37975     0.2961 -1.2827\n",
       "\n",
       "Intercepts:\n",
       "                       Value    Std. Error t value \n",
       "Much too slow|Too slow  -3.6829   0.3288   -11.2024\n",
       "Too slow|Just right     -1.6727   0.2663    -6.2813\n",
       "Just right|Too fast      2.0921   0.2701     7.7457\n",
       "Too fast|Much too fast   5.4806   0.4846    11.3102\n",
       "\n",
       "Residual Deviance: 1749.081 \n",
       "AIC: 1771.081 "
      ]
     },
     "metadata": {},
     "output_type": "display_data"
    },
    {
     "name": "stdout",
     "output_type": "stream",
     "text": [
      "[1] \"0.000*\"\n",
      "[1] \"0.010*\"\n",
      "[1] \"0.175*\"\n",
      "[1] \"0.521*\"\n",
      "[1] \"0.839*\"\n",
      "[1] \"0.694*\"\n",
      "[1] \"0.200*\"\n",
      "[1] \"0.000*\"\n",
      "[1] \"0.000*\"\n",
      "[1] \"0.000*\"\n",
      "[1] \"0.000*\"\n"
     ]
    },
    {
     "data": {
      "text/html": [
       "<table>\n",
       "<caption>A data.frame: 11 × 5</caption>\n",
       "<thead>\n",
       "\t<tr><th></th><th scope=col>Value</th><th scope=col>Std. Error</th><th scope=col>t value</th><th scope=col>pvalue</th><th scope=col>sig</th></tr>\n",
       "\t<tr><th></th><th scope=col>&lt;dbl&gt;</th><th scope=col>&lt;dbl&gt;</th><th scope=col>&lt;dbl&gt;</th><th scope=col>&lt;dbl&gt;</th><th scope=col>&lt;list&gt;</th></tr>\n",
       "</thead>\n",
       "<tbody>\n",
       "\t<tr><th scope=row>poly(WPM, 2)1</th><td>14.29558497</td><td>2.2564459</td><td>  6.3354433</td><td>0.000</td><td>0.000*</td></tr>\n",
       "\t<tr><th scope=row>poly(WPM, 2)2</th><td> 5.60472166</td><td>2.1752327</td><td>  2.5766079</td><td>0.010</td><td>0.010*</td></tr>\n",
       "\t<tr><th scope=row>TypeTTS</th><td> 0.28195149</td><td>0.2078108</td><td>  1.3567700</td><td>0.175</td><td>0.175</td></tr>\n",
       "\t<tr><th scope=row>genderMale</th><td> 0.11191233</td><td>0.1742724</td><td>  0.6421689</td><td>0.521</td><td>0.521</td></tr>\n",
       "\t<tr><th scope=row>TTS.Voice.GenderMale</th><td> 0.04755137</td><td>0.2336556</td><td>  0.2035105</td><td>0.839</td><td>0.839</td></tr>\n",
       "\t<tr><th scope=row>headphonesYes</th><td>-0.06176715</td><td>0.1569365</td><td> -0.3935806</td><td>0.694</td><td>0.694</td></tr>\n",
       "\t<tr><th scope=row>genderMale:TTS.Voice.GenderMale</th><td>-0.37974860</td><td>0.2960501</td><td> -1.2827172</td><td>0.200</td><td>0.200</td></tr>\n",
       "\t<tr><th scope=row>Much too slow|Too slow</th><td>-3.68292208</td><td>0.3287616</td><td>-11.2024106</td><td>0.000</td><td>0.000*</td></tr>\n",
       "\t<tr><th scope=row>Too slow|Just right</th><td>-1.67266865</td><td>0.2662944</td><td> -6.2812762</td><td>0.000</td><td>0.000*</td></tr>\n",
       "\t<tr><th scope=row>Just right|Too fast</th><td> 2.09213761</td><td>0.2701040</td><td>  7.7456739</td><td>0.000</td><td>0.000*</td></tr>\n",
       "\t<tr><th scope=row>Too fast|Much too fast</th><td> 5.48062439</td><td>0.4845732</td><td> 11.3102085</td><td>0.000</td><td>0.000*</td></tr>\n",
       "</tbody>\n",
       "</table>\n"
      ],
      "text/latex": [
       "A data.frame: 11 × 5\n",
       "\\begin{tabular}{r|lllll}\n",
       "  & Value & Std. Error & t value & pvalue & sig\\\\\n",
       "  & <dbl> & <dbl> & <dbl> & <dbl> & <list>\\\\\n",
       "\\hline\n",
       "\tpoly(WPM, 2)1 & 14.29558497 & 2.2564459 &   6.3354433 & 0.000 & 0.000*\\\\\n",
       "\tpoly(WPM, 2)2 &  5.60472166 & 2.1752327 &   2.5766079 & 0.010 & 0.010*\\\\\n",
       "\tTypeTTS &  0.28195149 & 0.2078108 &   1.3567700 & 0.175 & 0.175\\\\\n",
       "\tgenderMale &  0.11191233 & 0.1742724 &   0.6421689 & 0.521 & 0.521\\\\\n",
       "\tTTS.Voice.GenderMale &  0.04755137 & 0.2336556 &   0.2035105 & 0.839 & 0.839\\\\\n",
       "\theadphonesYes & -0.06176715 & 0.1569365 &  -0.3935806 & 0.694 & 0.694\\\\\n",
       "\tgenderMale:TTS.Voice.GenderMale & -0.37974860 & 0.2960501 &  -1.2827172 & 0.200 & 0.200\\\\\n",
       "\tMuch too slow\\textbar{}Too slow & -3.68292208 & 0.3287616 & -11.2024106 & 0.000 & 0.000*\\\\\n",
       "\tToo slow\\textbar{}Just right & -1.67266865 & 0.2662944 &  -6.2812762 & 0.000 & 0.000*\\\\\n",
       "\tJust right\\textbar{}Too fast &  2.09213761 & 0.2701040 &   7.7456739 & 0.000 & 0.000*\\\\\n",
       "\tToo fast\\textbar{}Much too fast &  5.48062439 & 0.4845732 &  11.3102085 & 0.000 & 0.000*\\\\\n",
       "\\end{tabular}\n"
      ],
      "text/markdown": [
       "\n",
       "A data.frame: 11 × 5\n",
       "\n",
       "| <!--/--> | Value &lt;dbl&gt; | Std. Error &lt;dbl&gt; | t value &lt;dbl&gt; | pvalue &lt;dbl&gt; | sig &lt;list&gt; |\n",
       "|---|---|---|---|---|---|\n",
       "| poly(WPM, 2)1 | 14.29558497 | 2.2564459 |   6.3354433 | 0.000 | 0.000* |\n",
       "| poly(WPM, 2)2 |  5.60472166 | 2.1752327 |   2.5766079 | 0.010 | 0.010* |\n",
       "| TypeTTS |  0.28195149 | 0.2078108 |   1.3567700 | 0.175 | 0.175 |\n",
       "| genderMale |  0.11191233 | 0.1742724 |   0.6421689 | 0.521 | 0.521 |\n",
       "| TTS.Voice.GenderMale |  0.04755137 | 0.2336556 |   0.2035105 | 0.839 | 0.839 |\n",
       "| headphonesYes | -0.06176715 | 0.1569365 |  -0.3935806 | 0.694 | 0.694 |\n",
       "| genderMale:TTS.Voice.GenderMale | -0.37974860 | 0.2960501 |  -1.2827172 | 0.200 | 0.200 |\n",
       "| Much too slow|Too slow | -3.68292208 | 0.3287616 | -11.2024106 | 0.000 | 0.000* |\n",
       "| Too slow|Just right | -1.67266865 | 0.2662944 |  -6.2812762 | 0.000 | 0.000* |\n",
       "| Just right|Too fast |  2.09213761 | 0.2701040 |   7.7456739 | 0.000 | 0.000* |\n",
       "| Too fast|Much too fast |  5.48062439 | 0.4845732 |  11.3102085 | 0.000 | 0.000* |\n",
       "\n"
      ],
      "text/plain": [
       "                                Value       Std. Error t value     pvalue\n",
       "poly(WPM, 2)1                   14.29558497 2.2564459    6.3354433 0.000 \n",
       "poly(WPM, 2)2                    5.60472166 2.1752327    2.5766079 0.010 \n",
       "TypeTTS                          0.28195149 0.2078108    1.3567700 0.175 \n",
       "genderMale                       0.11191233 0.1742724    0.6421689 0.521 \n",
       "TTS.Voice.GenderMale             0.04755137 0.2336556    0.2035105 0.839 \n",
       "headphonesYes                   -0.06176715 0.1569365   -0.3935806 0.694 \n",
       "genderMale:TTS.Voice.GenderMale -0.37974860 0.2960501   -1.2827172 0.200 \n",
       "Much too slow|Too slow          -3.68292208 0.3287616  -11.2024106 0.000 \n",
       "Too slow|Just right             -1.67266865 0.2662944   -6.2812762 0.000 \n",
       "Just right|Too fast              2.09213761 0.2701040    7.7456739 0.000 \n",
       "Too fast|Much too fast           5.48062439 0.4845732   11.3102085 0.000 \n",
       "                                sig   \n",
       "poly(WPM, 2)1                   0.000*\n",
       "poly(WPM, 2)2                   0.010*\n",
       "TypeTTS                         0.175 \n",
       "genderMale                      0.521 \n",
       "TTS.Voice.GenderMale            0.839 \n",
       "headphonesYes                   0.694 \n",
       "genderMale:TTS.Voice.GenderMale 0.200 \n",
       "Much too slow|Too slow          0.000*\n",
       "Too slow|Just right             0.000*\n",
       "Just right|Too fast             0.000*\n",
       "Too fast|Much too fast          0.000*"
      ]
     },
     "metadata": {},
     "output_type": "display_data"
    }
   ],
   "source": [
    "m <- polr(rate.speed ~ poly(WPM,2) + Type + gender + TTS.Voice.Gender + headphones + TTS.Voice.Gender*gender, data = data, Hess=TRUE)\n",
    "summary(m)\n",
    "ctable <- coef(summary(m))\n",
    "p <- round(pnorm(abs(ctable[, \"t value\"]), lower.tail = FALSE) * 2, digits = 3)\n",
    "ctable <- cbind(ctable, \"pvalue\" = p)\n",
    "ctable = as.data.frame.matrix(ctable)\n",
    "ctable$sig = lapply(ctable$pvalue, addSig)\n",
    "ctable"
   ]
  },
  {
   "cell_type": "code",
   "execution_count": null,
   "metadata": {},
   "outputs": [],
   "source": [
    "m <- polr(rate.speed ~ poly(WPM, 2), data = subset(data), Hess=TRUE)\n",
    "summary(m)\n",
    "ctable <- coef(summary(m))\n",
    "p <- round(pnorm(abs(ctable[, \"t value\"]), lower.tail = FALSE) * 2, digits = 3)\n",
    "ctable <- cbind(ctable, \"pvalue\" = p)\n",
    "ctable = as.data.frame.matrix(ctable)\n",
    "ctable$sig = lapply(ctable$pvalue, addSig)\n",
    "ctable"
   ]
  },
  {
   "cell_type": "code",
   "execution_count": null,
   "metadata": {},
   "outputs": [],
   "source": [
    "m <- polr(rate.speed.simple ~ WPM, data = subset(data), Hess=TRUE)\n",
    "summary(m)\n",
    "ctable <- coef(summary(m))\n",
    "p <- round(pnorm(abs(ctable[, \"t value\"]), lower.tail = FALSE) * 2, digits = 3)\n",
    "ctable <- cbind(ctable, \"pvalue\" = p)\n",
    "ctable = as.data.frame.matrix(ctable)\n",
    "ctable$sig = lapply(ctable$pvalue, addSig)\n",
    "ctable"
   ]
  },
  {
   "cell_type": "code",
   "execution_count": 17,
   "metadata": {},
   "outputs": [
    {
     "data": {
      "text/plain": [
       "Call:\n",
       "polr(formula = rate.speed.simple ~ poly(WPM, 2), data = subset(data), \n",
       "    Hess = TRUE)\n",
       "\n",
       "Coefficients:\n",
       "                Value Std. Error t value\n",
       "poly(WPM, 2)1 -0.7728      2.130 -0.3629\n",
       "poly(WPM, 2)2 -4.8599      2.126 -2.2858\n",
       "\n",
       "Intercepts:\n",
       "                Value    Std. Error t value \n",
       "Very poor|poor   -3.5458   0.1887   -18.7931\n",
       "poor|Just right  -0.9211   0.0696   -13.2347\n",
       "\n",
       "Residual Deviance: 1405.837 \n",
       "AIC: 1413.837 "
      ]
     },
     "metadata": {},
     "output_type": "display_data"
    },
    {
     "name": "stdout",
     "output_type": "stream",
     "text": [
      "[1] \"0.717*\"\n",
      "[1] \"0.022*\"\n",
      "[1] \"0.000*\"\n",
      "[1] \"0.000*\"\n"
     ]
    },
    {
     "data": {
      "text/html": [
       "<table>\n",
       "<caption>A data.frame: 4 × 5</caption>\n",
       "<thead>\n",
       "\t<tr><th></th><th scope=col>Value</th><th scope=col>Std. Error</th><th scope=col>t value</th><th scope=col>pvalue</th><th scope=col>sig</th></tr>\n",
       "\t<tr><th></th><th scope=col>&lt;dbl&gt;</th><th scope=col>&lt;dbl&gt;</th><th scope=col>&lt;dbl&gt;</th><th scope=col>&lt;dbl&gt;</th><th scope=col>&lt;list&gt;</th></tr>\n",
       "</thead>\n",
       "<tbody>\n",
       "\t<tr><th scope=row>poly(WPM, 2)1</th><td>-0.7728308</td><td>2.12967123</td><td> -0.3628874</td><td>0.717</td><td>0.717</td></tr>\n",
       "\t<tr><th scope=row>poly(WPM, 2)2</th><td>-4.8598728</td><td>2.12609659</td><td> -2.2858194</td><td>0.022</td><td>0.022*</td></tr>\n",
       "\t<tr><th scope=row>Very poor|poor</th><td>-3.5457927</td><td>0.18867550</td><td>-18.7930744</td><td>0.000</td><td>0.000*</td></tr>\n",
       "\t<tr><th scope=row>poor|Just right</th><td>-0.9211017</td><td>0.06959722</td><td>-13.2347485</td><td>0.000</td><td>0.000*</td></tr>\n",
       "</tbody>\n",
       "</table>\n"
      ],
      "text/latex": [
       "A data.frame: 4 × 5\n",
       "\\begin{tabular}{r|lllll}\n",
       "  & Value & Std. Error & t value & pvalue & sig\\\\\n",
       "  & <dbl> & <dbl> & <dbl> & <dbl> & <list>\\\\\n",
       "\\hline\n",
       "\tpoly(WPM, 2)1 & -0.7728308 & 2.12967123 &  -0.3628874 & 0.717 & 0.717\\\\\n",
       "\tpoly(WPM, 2)2 & -4.8598728 & 2.12609659 &  -2.2858194 & 0.022 & 0.022*\\\\\n",
       "\tVery poor\\textbar{}poor & -3.5457927 & 0.18867550 & -18.7930744 & 0.000 & 0.000*\\\\\n",
       "\tpoor\\textbar{}Just right & -0.9211017 & 0.06959722 & -13.2347485 & 0.000 & 0.000*\\\\\n",
       "\\end{tabular}\n"
      ],
      "text/markdown": [
       "\n",
       "A data.frame: 4 × 5\n",
       "\n",
       "| <!--/--> | Value &lt;dbl&gt; | Std. Error &lt;dbl&gt; | t value &lt;dbl&gt; | pvalue &lt;dbl&gt; | sig &lt;list&gt; |\n",
       "|---|---|---|---|---|---|\n",
       "| poly(WPM, 2)1 | -0.7728308 | 2.12967123 |  -0.3628874 | 0.717 | 0.717 |\n",
       "| poly(WPM, 2)2 | -4.8598728 | 2.12609659 |  -2.2858194 | 0.022 | 0.022* |\n",
       "| Very poor|poor | -3.5457927 | 0.18867550 | -18.7930744 | 0.000 | 0.000* |\n",
       "| poor|Just right | -0.9211017 | 0.06959722 | -13.2347485 | 0.000 | 0.000* |\n",
       "\n"
      ],
      "text/plain": [
       "                Value      Std. Error t value     pvalue sig   \n",
       "poly(WPM, 2)1   -0.7728308 2.12967123  -0.3628874 0.717  0.717 \n",
       "poly(WPM, 2)2   -4.8598728 2.12609659  -2.2858194 0.022  0.022*\n",
       "Very poor|poor  -3.5457927 0.18867550 -18.7930744 0.000  0.000*\n",
       "poor|Just right -0.9211017 0.06959722 -13.2347485 0.000  0.000*"
      ]
     },
     "metadata": {},
     "output_type": "display_data"
    },
    {
     "data": {
      "text/html": [
       "<table>\n",
       "<caption>A data.frame: 4 × 8</caption>\n",
       "<thead>\n",
       "\t<tr><th scope=col>Row.names</th><th scope=col>Value</th><th scope=col>Std. Error</th><th scope=col>t value</th><th scope=col>pvalue</th><th scope=col>sig</th><th scope=col>y.x</th><th scope=col>y.y</th></tr>\n",
       "\t<tr><th scope=col>&lt;I&lt;chr&gt;&gt;</th><th scope=col>&lt;dbl&gt;</th><th scope=col>&lt;dbl&gt;</th><th scope=col>&lt;dbl&gt;</th><th scope=col>&lt;dbl&gt;</th><th scope=col>&lt;list&gt;</th><th scope=col>&lt;fct&gt;</th><th scope=col>&lt;dbl&gt;</th></tr>\n",
       "</thead>\n",
       "<tbody>\n",
       "\t<tr><td>poly(WPM, 2)1  </td><td>-0.7728308</td><td>2.12967123</td><td> -0.3628874</td><td>0.717</td><td>0.717</td><td>$\\mathit{WPM}            </td><td>1</td></tr>\n",
       "\t<tr><td>poly(WPM, 2)2  </td><td>-4.8598728</td><td>2.12609659</td><td> -2.2858194</td><td>0.022</td><td>0.022*</td><td>$\\mathit{WPM^2}          </td><td>2</td></tr>\n",
       "\t<tr><td>poor|Just right</td><td>-0.9211017</td><td>0.06959722</td><td>-13.2347485</td><td>0.000</td><td>0.000*</td><td>$\\mathit{poor|Just.right}</td><td>4</td></tr>\n",
       "\t<tr><td>Very poor|poor </td><td>-3.5457927</td><td>0.18867550</td><td>-18.7930744</td><td>0.000</td><td>0.000*</td><td>$\\mathit{Very.poor|Poor} </td><td>3</td></tr>\n",
       "</tbody>\n",
       "</table>\n"
      ],
      "text/latex": [
       "A data.frame: 4 × 8\n",
       "\\begin{tabular}{r|llllllll}\n",
       " Row.names & Value & Std. Error & t value & pvalue & sig & y.x & y.y\\\\\n",
       " <I<chr>> & <dbl> & <dbl> & <dbl> & <dbl> & <list> & <fct> & <dbl>\\\\\n",
       "\\hline\n",
       "\t poly(WPM, 2)1   & -0.7728308 & 2.12967123 &  -0.3628874 & 0.717 & 0.717 & \\$\\textbackslash{}mathit\\{WPM\\}             & 1\\\\\n",
       "\t poly(WPM, 2)2   & -4.8598728 & 2.12609659 &  -2.2858194 & 0.022 & 0.022* & \\$\\textbackslash{}mathit\\{WPM\\textasciicircum{}2\\}           & 2\\\\\n",
       "\t poor\\textbar{}Just right & -0.9211017 & 0.06959722 & -13.2347485 & 0.000 & 0.000* & \\$\\textbackslash{}mathit\\{poor\\textbar{}Just.right\\} & 4\\\\\n",
       "\t Very poor\\textbar{}poor  & -3.5457927 & 0.18867550 & -18.7930744 & 0.000 & 0.000* & \\$\\textbackslash{}mathit\\{Very.poor\\textbar{}Poor\\}  & 3\\\\\n",
       "\\end{tabular}\n"
      ],
      "text/markdown": [
       "\n",
       "A data.frame: 4 × 8\n",
       "\n",
       "| Row.names &lt;I&lt;chr&gt;&gt; | Value &lt;dbl&gt; | Std. Error &lt;dbl&gt; | t value &lt;dbl&gt; | pvalue &lt;dbl&gt; | sig &lt;list&gt; | y.x &lt;fct&gt; | y.y &lt;dbl&gt; |\n",
       "|---|---|---|---|---|---|---|---|\n",
       "| poly(WPM, 2)1   | -0.7728308 | 2.12967123 |  -0.3628874 | 0.717 | 0.717 | $\\mathit{WPM}             | 1 |\n",
       "| poly(WPM, 2)2   | -4.8598728 | 2.12609659 |  -2.2858194 | 0.022 | 0.022* | $\\mathit{WPM^2}           | 2 |\n",
       "| poor|Just right | -0.9211017 | 0.06959722 | -13.2347485 | 0.000 | 0.000* | $\\mathit{poor|Just.right} | 4 |\n",
       "| Very poor|poor  | -3.5457927 | 0.18867550 | -18.7930744 | 0.000 | 0.000* | $\\mathit{Very.poor|Poor}  | 3 |\n",
       "\n"
      ],
      "text/plain": [
       "  Row.names       Value      Std. Error t value     pvalue sig   \n",
       "1 poly(WPM, 2)1   -0.7728308 2.12967123  -0.3628874 0.717  0.717 \n",
       "2 poly(WPM, 2)2   -4.8598728 2.12609659  -2.2858194 0.022  0.022*\n",
       "3 poor|Just right -0.9211017 0.06959722 -13.2347485 0.000  0.000*\n",
       "4 Very poor|poor  -3.5457927 0.18867550 -18.7930744 0.000  0.000*\n",
       "  y.x                        y.y\n",
       "1 $\\\\mathit{WPM}             1  \n",
       "2 $\\\\mathit{WPM^2}           2  \n",
       "3 $\\\\mathit{poor|Just.right} 4  \n",
       "4 $\\\\mathit{Very.poor|Poor}  3  "
      ]
     },
     "metadata": {},
     "output_type": "display_data"
    }
   ],
   "source": [
    "m <- polr(rate.speed.simple ~ poly(WPM, 2), data = subset(data), Hess=TRUE)\n",
    "summary(m)\n",
    "ctable <- coef(summary(m))\n",
    "p <- round(pnorm(abs(ctable[, \"t value\"]), lower.tail = FALSE) * 2, digits = 3)\n",
    "ctable <- cbind(ctable, \"pvalue\" = p)\n",
    "ctable = as.data.frame.matrix(ctable)\n",
    "ctable$sig = lapply(ctable$pvalue, addSig)\n",
    "result = ctable\n",
    "\n",
    "vars = c(\n",
    "    'poly(WPM, 2)1' = '$\\\\mathit{WPM}',\n",
    "    'poly(WPM, 2)2' = '$\\\\mathit{WPM^2}',\n",
    "    'Very poor|poor' = '$\\\\mathit{Very.poor|Poor}',\n",
    "    'poor|Just right' = '$\\\\mathit{poor|Just.right}'\n",
    ")\n",
    "\n",
    "rank = c(\n",
    "    'poly(WPM, 2)1' = 1,\n",
    "    'poly(WPM, 2)2' = 2,\n",
    "    'Very poor|poor' = 3,\n",
    "    'poor|Just right' = 4\n",
    ")\n",
    "\n",
    "result\n",
    "result = merge(result,vars, by.x=0, by.y=0)\n",
    "result = merge(result,rank, by.x='Row.names', by.y=0)\n",
    "result"
   ]
  },
  {
   "cell_type": "code",
   "execution_count": null,
   "metadata": {},
   "outputs": [],
   "source": []
  }
 ],
 "metadata": {
  "kernelspec": {
   "display_name": "R",
   "language": "R",
   "name": "ir"
  },
  "language_info": {
   "codemirror_mode": "r",
   "file_extension": ".r",
   "mimetype": "text/x-r-source",
   "name": "R",
   "pygments_lexer": "r",
   "version": "3.6.1"
  }
 },
 "nbformat": 4,
 "nbformat_minor": 2
}
